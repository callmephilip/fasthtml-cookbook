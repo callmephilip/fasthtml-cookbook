{
 "cells": [
  {
   "cell_type": "markdown",
   "id": "e6583059-e483-4c79-81ce-c05e1caf339c",
   "metadata": {},
   "source": [
    "# Welcome to HTMX cookbook\n",
    "\n",
    "> Please note, this very much WIP. If you have certain recipes that you want to share or want to see, head to [Github](https://github.com/callmephilip/htmx-cookbook)\n",
    "\n",
    "This cookbook is powered by [FastHTML](https://fastht.ml/). UI is based on [block.css](https://github.com/thesephist/blocks.css)\n",
    "\n",
    "## Getting started\n",
    "\n",
    "```\n",
    "python -m venv .env\n",
    "source .env/bin/activate\n",
    "pip install notebook\n",
    "jupyter notebook\n",
    "```\n",
    "\n",
    "The easiest way to run this is to smash `Run -> Run All Cells`. To iterate on a specific recipe, update code in the corresponding cell and rerun it\n",
    "\n",
    "![Screenshot](./cookbook.gif)"
   ]
  },
  {
   "cell_type": "code",
   "execution_count": null,
   "id": "a9ffec27-55da-475a-931f-a7585b802f9a",
   "metadata": {},
   "outputs": [],
   "source": [
    "! pip install git+https://github.com/callmephilip/fasthtml.git@tweak-jupyter-integration password_strength"
   ]
  },
  {
   "cell_type": "code",
   "execution_count": 2,
   "id": "8e323374-59d9-44c5-ae22-6ef38279828b",
   "metadata": {},
   "outputs": [],
   "source": [
    "# Setup - you can largely ingnore this unless you wan to tweak how the cookbook works\n",
    "\n",
    "import traceback\n",
    "from typing import Literal\n",
    "from fasthtml.common import *\n",
    "from fasthtml.jupyter import *\n",
    "from ui import *\n",
    "\n",
    "# scripts\n",
    "htmx,fasthtml_js = \"/htmx.js\", \"https://cdn.jsdelivr.net/gh/answerdotai/fasthtml-js@1.0.4/fasthtml.js\"\n",
    "# styles + fonts\n",
    "styles,blk_css,font_css = \"/styles.css\",\"https://unpkg.com/blocks.css/dist/blocks.min.css\",\"https://fonts.googleapis.com/css2?family=IBM+Plex+Mono:wght@500;700&amp;display=swap\"\n",
    "hdrs = [Script(src=s) for s in [htmx, fasthtml_js]] + [Link(href=style, rel=\"stylesheet\") for style in [blk_css,styles,font_css]]\n",
    "\n",
    "def server_error(request: Request, exc: HTTPException): return HTMLResponse(content=''.join(traceback.format_exception(exc)), status_code=500)\n",
    "\n",
    "app = FastJupy(default_hdrs=False, hdrs=hdrs, exception_handlers={ 500: server_error, Exception: server_error })\n",
    "rt, server = app.route, JupyUvi(app, port=8000)\n",
    "\n",
    "@rt(\"/htmx.js\")\n",
    "def get():\n",
    "    with open(\"htmx.js\") as f:\n",
    "        return f.read()\n",
    "@rt(\"/styles.css\")\n",
    "def get():\n",
    "    with open(\"styles.css\") as f:\n",
    "        return Response(f.read(), media_type=\"text/css\")"
   ]
  },
  {
   "cell_type": "code",
   "execution_count": 3,
   "id": "d028752f-95c2-4107-b0b1-9dedf05239c2",
   "metadata": {},
   "outputs": [
    {
     "data": {
      "text/html": [
       "<iframe src=\"http://localhost:8000/\" style=\"width: 100%; height: auto; border: none;\" onload=\"{\n",
       "        let frame = this;\n",
       "        window.addEventListener('message', function(e) {\n",
       "            if (e.data.height) frame.style.height = (e.data.height+1) + 'px';\n",
       "        }, false);\n",
       "    }\" allow=\"accelerometer; autoplay; camera; clipboard-read; clipboard-write; display-capture; encrypted-media; fullscreen; gamepad; geolocation; gyroscope; hid; identity-credentials-get; idle-detection; magnetometer; microphone; midi; payment; picture-in-picture; publickey-credentials-get; screen-wake-lock; serial; usb; web-share; xr-spatial-tracking\"></iframe> "
      ],
      "text/plain": [
       "<IPython.core.display.HTML object>"
      ]
     },
     "execution_count": 3,
     "metadata": {},
     "output_type": "execute_result"
    }
   ],
   "source": [
    "@rt(path=\"/\")\n",
    "def get():\n",
    "    return Playground(\n",
    "        H1(\"HTMX cookbook\"),\n",
    "        P(\"This is very much WIP. Please leave your comments/requests on Github\"),\n",
    "        Div(\"Let's get started 👇\", cls=\"wrapper animate-bounce block\"),\n",
    "        path=\"/\"\n",
    "    )\n",
    "\n",
    "HTMX(path=\"/\")"
   ]
  },
  {
   "cell_type": "markdown",
   "id": "588aa3ac-edc3-43f9-8232-9cd11c5e32ca",
   "metadata": {},
   "source": [
    "# Basic action\n",
    "\n",
    "Grab some stuff from a URL on click"
   ]
  },
  {
   "cell_type": "code",
   "execution_count": 4,
   "id": "58d910fd-89da-4b06-b25d-a631c9bbbc6d",
   "metadata": {},
   "outputs": [
    {
     "data": {
      "text/html": [
       "<iframe src=\"http://localhost:8000/get-on-click\" style=\"width: 100%; height: auto; border: none;\" onload=\"{\n",
       "        let frame = this;\n",
       "        window.addEventListener('message', function(e) {\n",
       "            if (e.data.height) frame.style.height = (e.data.height+1) + 'px';\n",
       "        }, false);\n",
       "    }\" allow=\"accelerometer; autoplay; camera; clipboard-read; clipboard-write; display-capture; encrypted-media; fullscreen; gamepad; geolocation; gyroscope; hid; identity-credentials-get; idle-detection; magnetometer; microphone; midi; payment; picture-in-picture; publickey-credentials-get; screen-wake-lock; serial; usb; web-share; xr-spatial-tracking\"></iframe> "
      ],
      "text/plain": [
       "<IPython.core.display.HTML object>"
      ]
     },
     "execution_count": 4,
     "metadata": {},
     "output_type": "execute_result"
    }
   ],
   "source": [
    "@rt(\"/data\")\n",
    "def get(): return Span(\"😱 i am trapped inside the button now!\")\n",
    "\n",
    "@rt(path=\"/get-on-click\")\n",
    "def get(): return Playground(ActionButton(\"Get some data\", hx_get=\"/data\"), path=\"/get-on-click\")\n",
    "\n",
    "HTMX(path=\"/get-on-click\")"
   ]
  },
  {
   "cell_type": "markdown",
   "id": "c7624468-b7af-4888-b49b-9ddee5030459",
   "metadata": {},
   "source": [
    "# Custom trigger attribute "
   ]
  },
  {
   "cell_type": "code",
   "execution_count": 5,
   "id": "094bc47a-efa2-4472-a258-eafa2eeecc22",
   "metadata": {},
   "outputs": [
    {
     "data": {
      "text/html": [
       "<iframe src=\"http://localhost:8000/html2ft\" style=\"width: 100%; height: auto; border: none;\" onload=\"{\n",
       "        let frame = this;\n",
       "        window.addEventListener('message', function(e) {\n",
       "            if (e.data.height) frame.style.height = (e.data.height+1) + 'px';\n",
       "        }, false);\n",
       "    }\" allow=\"accelerometer; autoplay; camera; clipboard-read; clipboard-write; display-capture; encrypted-media; fullscreen; gamepad; geolocation; gyroscope; hid; identity-credentials-get; idle-detection; magnetometer; microphone; midi; payment; picture-in-picture; publickey-credentials-get; screen-wake-lock; serial; usb; web-share; xr-spatial-tracking\"></iframe> "
      ],
      "text/plain": [
       "<IPython.core.display.HTML object>"
      ]
     },
     "execution_count": 5,
     "metadata": {},
     "output_type": "execute_result"
    }
   ],
   "source": [
    "from time import sleep\n",
    "\n",
    "@dataclass\n",
    "class Html2FT: html: str\n",
    "\n",
    "@rt(\"/html2ft/convert\")\n",
    "def post(data: Html2FT): \n",
    "    sleep(5)\n",
    "    return html2ft(data.html) \n",
    "\n",
    "on_paste = \"\"\"\n",
    "document.querySelector(\"#txt-html\").addEventListener(\"paste\", function (event) { setTimeout(() => {event.target.blur();}, 500) });\n",
    "\"\"\"\n",
    "\n",
    "@rt(\"/html2ft\")\n",
    "def get():\n",
    "    return Playground(\n",
    "        Div(\n",
    "            Div(\n",
    "                P(\"Convert HTML to FT\"),\n",
    "                MultilineTextbox(name=\"html\", placeholder=\"paste html here\", cls=\"w-100 h-80\", id=\"txt-html\", hx_post=\"/html2ft/convert\", hx_trigger=\"blur\", hx_target=\"#result\", hx_indicator=\"#processing-indicator\"),\n",
    "                Strong(\"Processing...\", id=\"processing-indicator\", cls=\"htmx-indicator\"),\n",
    "                cls=\"flex-grow-1 h-300px\"\n",
    "            ),\n",
    "            Div(\n",
    "                Code(id=\"result\", cls=\"white-space-pre-wrap text-align-left\"),\n",
    "                cls=\"flex-grow-2 h-300px text-align-left\", style=\"padding-left: 5rem;\"\n",
    "            ),\n",
    "            cls=\"flex flex-row\"\n",
    "        ),\n",
    "        Script(code=on_paste),\n",
    "        path=\"/html2ft\"\n",
    "    )\n",
    "\n",
    "HTMX(path=\"/html2ft\")"
   ]
  },
  {
   "cell_type": "markdown",
   "id": "d845ca47-dc6b-4dff-9e46-639e02891b39",
   "metadata": {},
   "source": [
    "# You can also post some data over"
   ]
  },
  {
   "cell_type": "code",
   "execution_count": 6,
   "id": "3e0cafc9-1eff-4489-9dad-b809d559437e",
   "metadata": {},
   "outputs": [
    {
     "data": {
      "text/html": [
       "<iframe src=\"http://localhost:8000/login\" style=\"width: 100%; height: auto; border: none;\" onload=\"{\n",
       "        let frame = this;\n",
       "        window.addEventListener('message', function(e) {\n",
       "            if (e.data.height) frame.style.height = (e.data.height+1) + 'px';\n",
       "        }, false);\n",
       "    }\" allow=\"accelerometer; autoplay; camera; clipboard-read; clipboard-write; display-capture; encrypted-media; fullscreen; gamepad; geolocation; gyroscope; hid; identity-credentials-get; idle-detection; magnetometer; microphone; midi; payment; picture-in-picture; publickey-credentials-get; screen-wake-lock; serial; usb; web-share; xr-spatial-tracking\"></iframe> "
      ],
      "text/plain": [
       "<IPython.core.display.HTML object>"
      ]
     },
     "execution_count": 6,
     "metadata": {},
     "output_type": "execute_result"
    }
   ],
   "source": [
    "from password_strength import PasswordStats\n",
    "\n",
    "@dataclass\n",
    "class LoginData: email: str; pw:str \n",
    "\n",
    "@rt(\"/login\")\n",
    "def post(ld: LoginData): return Span(f\"You are logged in!\")\n",
    "\n",
    "@rt(\"/login/validation\")\n",
    "def post(ld: LoginData): \n",
    "    strength = int(PasswordStats(ld.pw).strength() * 10) if ld.pw else 0\n",
    "    if strength > 7:\n",
    "        c = \"green\"\n",
    "    elif strength > 5:\n",
    "        c = \"orange\"\n",
    "    else: c = \"red\"\n",
    "    \n",
    "    return Div(\"✅\" if \"@\" in ld.email else \"🔴\", id=\"email-validator\", hx_swap_oob=\"true\"), strength > 0 and Div(\n",
    "        Div(*[Div(\"+\", cls=f\"text-{c}\") if i + 1 <= strength else Div(\"_\", cls=\"tex-gray\") for i in range(9)], cls=\"flex flex-row\"),\n",
    "        id=\"password-validator\",\n",
    "        hx_swap_oob=\"true\"\n",
    "    )\n",
    "\n",
    "@rt(\"/login\")\n",
    "def get():\n",
    "    return Playground(\n",
    "        Form(\n",
    "            Div(\n",
    "                Textbox(name=\"email\", placeholder=\"Email\", hx_post=\"/login/validation\", hx_trigger=\"keyup\"), \n",
    "                Div(id=\"email-validator\"),\n",
    "                cls=\"flex flex-row\"\n",
    "            ),\n",
    "            Div(\n",
    "                Password(name=\"pw\", placeholder=\"Password\", hx_post=\"/login/validation\", hx_trigger=\"keyup\"),\n",
    "                Div(id=\"password-validator\"),\n",
    "                cls=\"flex flex-row\"\n",
    "            ),\n",
    "            ActionButton(\"Go!\"),\n",
    "            hx_post=\"/login\"\n",
    "        ), \n",
    "        path=\"/login\")\n",
    " \n",
    "HTMX(path=\"/login\")"
   ]
  }
 ],
 "metadata": {
  "kernelspec": {
   "display_name": "Python 3 (ipykernel)",
   "language": "python",
   "name": "python3"
  },
  "language_info": {
   "codemirror_mode": {
    "name": "ipython",
    "version": 3
   },
   "file_extension": ".py",
   "mimetype": "text/x-python",
   "name": "python",
   "nbconvert_exporter": "python",
   "pygments_lexer": "ipython3",
   "version": "3.10.9"
  }
 },
 "nbformat": 4,
 "nbformat_minor": 5
}
