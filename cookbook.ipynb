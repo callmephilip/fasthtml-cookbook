{
 "cells": [
  {
   "cell_type": "markdown",
   "id": "e6583059-e483-4c79-81ce-c05e1caf339c",
   "metadata": {},
   "source": [
    "# Welcome to HTMX cookbook\n",
    "\n",
    "> Please note, this very much WIP. If you have certain recipes that you want to share or want to see, head to [Github](https://github.com/callmephilip/htmx-cookbook)\n",
    "\n",
    "This cookbook is powered by [FastHTML](https://fastht.ml/). UI is based on [block.css](https://github.com/thesephist/blocks.css)\n",
    "\n",
    "## Getting started\n",
    "\n",
    "```\n",
    "python -m venv .env\n",
    "source .env/bin/activate\n",
    "pip install notebook\n",
    "jupyter notebook\n",
    "```\n",
    "\n",
    "The easiest way to run this is to smash `Run -> Run All Cells`. To iterate on a specific recipe, update code in the corresponding cell and rerun it\n",
    "\n",
    "![Screenshot](./cookbook.gif)"
   ]
  },
  {
   "cell_type": "code",
   "execution_count": 1,
   "id": "a9ffec27-55da-475a-931f-a7585b802f9a",
   "metadata": {},
   "outputs": [
    {
     "name": "stdout",
     "output_type": "stream",
     "text": [
      "Collecting git+https://github.com/callmephilip/fasthtml.git@tweak-jupyter-integration\n",
      "  Cloning https://github.com/callmephilip/fasthtml.git (to revision tweak-jupyter-integration) to /private/var/folders/6_/kmpf38495hzcv9549vccky700000gn/T/pip-req-build-zd7pf0jf\n",
      "  Running command git clone --filter=blob:none --quiet https://github.com/callmephilip/fasthtml.git /private/var/folders/6_/kmpf38495hzcv9549vccky700000gn/T/pip-req-build-zd7pf0jf\n",
      "  Running command git checkout -b tweak-jupyter-integration --track origin/tweak-jupyter-integration\n",
      "  Switched to a new branch 'tweak-jupyter-integration'\n",
      "  branch 'tweak-jupyter-integration' set up to track 'origin/tweak-jupyter-integration'.\n",
      "  Resolved https://github.com/callmephilip/fasthtml.git to commit 3bf075a96fe8ffc2c4928d61e78f10689100a757\n",
      "  Installing build dependencies ... \u001b[?25ldone\n",
      "\u001b[?25h  Getting requirements to build wheel ... \u001b[?25ldone\n",
      "\u001b[?25h  Preparing metadata (pyproject.toml) ... \u001b[?25ldone\n",
      "\u001b[?25hRequirement already satisfied: password_strength in ./.env/lib/python3.10/site-packages (0.0.3.post2)\n",
      "Requirement already satisfied: beautifulsoup4 in ./.env/lib/python3.10/site-packages (from python-fasthtml==0.6.9) (4.12.3)\n",
      "Requirement already satisfied: python-dateutil in ./.env/lib/python3.10/site-packages (from python-fasthtml==0.6.9) (2.9.0.post0)\n",
      "Requirement already satisfied: itsdangerous in ./.env/lib/python3.10/site-packages (from python-fasthtml==0.6.9) (2.2.0)\n",
      "Requirement already satisfied: uvicorn[standard]>=0.30 in ./.env/lib/python3.10/site-packages (from python-fasthtml==0.6.9) (0.31.0)\n",
      "Requirement already satisfied: fastcore>=1.7.8 in ./.env/lib/python3.10/site-packages (from python-fasthtml==0.6.9) (1.7.10)\n",
      "Requirement already satisfied: oauthlib in ./.env/lib/python3.10/site-packages (from python-fasthtml==0.6.9) (3.2.2)\n",
      "Requirement already satisfied: starlette>0.33 in ./.env/lib/python3.10/site-packages (from python-fasthtml==0.6.9) (0.39.1)\n",
      "Requirement already satisfied: httpx in ./.env/lib/python3.10/site-packages (from python-fasthtml==0.6.9) (0.27.2)\n",
      "Requirement already satisfied: fastlite>=0.0.9 in ./.env/lib/python3.10/site-packages (from python-fasthtml==0.6.9) (0.0.11)\n",
      "Requirement already satisfied: python-multipart in ./.env/lib/python3.10/site-packages (from python-fasthtml==0.6.9) (0.0.11)\n",
      "Requirement already satisfied: six in ./.env/lib/python3.10/site-packages (from password_strength) (1.16.0)\n",
      "Requirement already satisfied: packaging in ./.env/lib/python3.10/site-packages (from fastcore>=1.7.8->python-fasthtml==0.6.9) (24.1)\n",
      "Requirement already satisfied: sqlite-minutils>=3.37 in ./.env/lib/python3.10/site-packages (from fastlite>=0.0.9->python-fasthtml==0.6.9) (3.37.0.post3)\n",
      "Requirement already satisfied: anyio<5,>=3.4.0 in ./.env/lib/python3.10/site-packages (from starlette>0.33->python-fasthtml==0.6.9) (4.6.0)\n",
      "Requirement already satisfied: click>=7.0 in ./.env/lib/python3.10/site-packages (from uvicorn[standard]>=0.30->python-fasthtml==0.6.9) (8.1.7)\n",
      "Requirement already satisfied: typing-extensions>=4.0 in ./.env/lib/python3.10/site-packages (from uvicorn[standard]>=0.30->python-fasthtml==0.6.9) (4.12.2)\n",
      "Requirement already satisfied: h11>=0.8 in ./.env/lib/python3.10/site-packages (from uvicorn[standard]>=0.30->python-fasthtml==0.6.9) (0.14.0)\n",
      "Requirement already satisfied: uvloop!=0.15.0,!=0.15.1,>=0.14.0 in ./.env/lib/python3.10/site-packages (from uvicorn[standard]>=0.30->python-fasthtml==0.6.9) (0.20.0)\n",
      "Requirement already satisfied: python-dotenv>=0.13 in ./.env/lib/python3.10/site-packages (from uvicorn[standard]>=0.30->python-fasthtml==0.6.9) (1.0.1)\n",
      "Requirement already satisfied: pyyaml>=5.1 in ./.env/lib/python3.10/site-packages (from uvicorn[standard]>=0.30->python-fasthtml==0.6.9) (6.0.2)\n",
      "Requirement already satisfied: websockets>=10.4 in ./.env/lib/python3.10/site-packages (from uvicorn[standard]>=0.30->python-fasthtml==0.6.9) (13.1)\n",
      "Requirement already satisfied: httptools>=0.5.0 in ./.env/lib/python3.10/site-packages (from uvicorn[standard]>=0.30->python-fasthtml==0.6.9) (0.6.1)\n",
      "Requirement already satisfied: watchfiles>=0.13 in ./.env/lib/python3.10/site-packages (from uvicorn[standard]>=0.30->python-fasthtml==0.6.9) (0.24.0)\n",
      "Requirement already satisfied: soupsieve>1.2 in ./.env/lib/python3.10/site-packages (from beautifulsoup4->python-fasthtml==0.6.9) (2.6)\n",
      "Requirement already satisfied: idna in ./.env/lib/python3.10/site-packages (from httpx->python-fasthtml==0.6.9) (3.10)\n",
      "Requirement already satisfied: sniffio in ./.env/lib/python3.10/site-packages (from httpx->python-fasthtml==0.6.9) (1.3.1)\n",
      "Requirement already satisfied: httpcore==1.* in ./.env/lib/python3.10/site-packages (from httpx->python-fasthtml==0.6.9) (1.0.5)\n",
      "Requirement already satisfied: certifi in ./.env/lib/python3.10/site-packages (from httpx->python-fasthtml==0.6.9) (2024.8.30)\n",
      "Requirement already satisfied: exceptiongroup>=1.0.2 in ./.env/lib/python3.10/site-packages (from anyio<5,>=3.4.0->starlette>0.33->python-fasthtml==0.6.9) (1.2.2)\n",
      "\n",
      "\u001b[1m[\u001b[0m\u001b[34;49mnotice\u001b[0m\u001b[1;39;49m]\u001b[0m\u001b[39;49m A new release of pip available: \u001b[0m\u001b[31;49m22.3.1\u001b[0m\u001b[39;49m -> \u001b[0m\u001b[32;49m24.2\u001b[0m\n",
      "\u001b[1m[\u001b[0m\u001b[34;49mnotice\u001b[0m\u001b[1;39;49m]\u001b[0m\u001b[39;49m To update, run: \u001b[0m\u001b[32;49mpip install --upgrade pip\u001b[0m\n"
     ]
    }
   ],
   "source": [
    "! pip install --no-cache-dir git+https://github.com/callmephilip/fasthtml.git@tweak-jupyter-integration password_strength"
   ]
  },
  {
   "cell_type": "code",
   "execution_count": 2,
   "id": "8e323374-59d9-44c5-ae22-6ef38279828b",
   "metadata": {},
   "outputs": [],
   "source": [
    "# Setup - you can largely ignore this unless you wan to tweak how the cookbook works\n",
    "\n",
    "import os, time, re, traceback\n",
    "from urllib.parse import urlparse\n",
    "from urllib.request import urlopen\n",
    "from typing import Optional\n",
    "from fasthtml.common import *\n",
    "from fasthtml.jupyter import *\n",
    "\n",
    "# UI\n",
    "def prettify(f):\n",
    "    def _f(*args, **kw): return f(*args, **(kw | { \"cls\": \"block \" + kw.get(\"cls\",\"\") }))\n",
    "    return _f\n",
    "\n",
    "@prettify\n",
    "def Panel(*content, **kw): return Div(*content, **kw)\n",
    "\n",
    "@prettify\n",
    "def Textbox(*content, **kw): return Input(*content, **kw)\n",
    "\n",
    "@prettify\n",
    "def Password(*content, **kw): return Input(type=\"password\", *content, **kw)\n",
    "\n",
    "@prettify\n",
    "def MultilineTextbox(*content, **kw): return Textarea(*content, **kw)\n",
    "\n",
    "@prettify\n",
    "def ActionButton(*content, **kw): return Button(*content, **kw)\n",
    "\n",
    "def AddressBar(*content, **kw): return Textbox(*content, readonly=True, **kw)\n",
    "\n",
    "on_response_error = \"\"\"document.querySelector(\"#errors\").innerHTML = event.detail.xhr.responseText; document.querySelector(\".error-box\").classList.add(\"show\");\"\"\"\n",
    "\n",
    "def Playground(*content, path:str): return ErrorBox(), Panel(AddressBar(value=f\"🌎 http://localhost:8000{path}\", cls=\"w-100\"), Hr(), *content, HtmxOn(\"responseError\", on_response_error), cls=\"h-fullish\")\n",
    "def ErrorBox(): return Panel(Div(Div(P(\"Oh 🦌!\")), Div(ActionButton(\"x\", cls=\"display-inline\", onclick=\"document.querySelector('.error-box').classList.remove('show')\"), cls=\"flex-grow-1 text-align-right\"), cls=\"flex flex-row\"), Hr(), P(id=\"errors\"), cls=\"error-box\")\n",
    "\n",
    "\n",
    "class ColabFriendlyJupyUvi(JupyUvi):\n",
    "  def start(self, url=\"http://localhost:8000\",max_attempts=5,initial_delay=1,out=\"tunnel.log\") -> Optional[str]:\n",
    "    super(ColabFriendlyJupyUvi, self).start()\n",
    "    try:\n",
    "      import google.colab\n",
    "\n",
    "      # setup cloudflare tunnel: https://pkg.cloudflare.com/index.html\n",
    "      installation_script = \"\"\"\n",
    "      sudo mkdir -p --mode=0755 /usr/share/keyrings\n",
    "      curl -fsSL https://pkg.cloudflare.com/cloudflare-main.gpg | sudo tee /usr/share/keyrings/cloudflare-main.gpg >/dev/null\n",
    "      echo 'deb [signed-by=/usr/share/keyrings/cloudflare-main.gpg] https://pkg.cloudflare.com/cloudflared focal main' | sudo tee /etc/apt/sources.list.d/cloudflared.list\n",
    "      sudo apt-get update && sudo apt-get install cloudflared\n",
    "      \"\"\"\n",
    "      if os.system(\"cloudflared --version\") != 0: os.system(installation_script)\n",
    "      os.system(f\"nohup cloudflared tunnel --url {url} > {out} 2>&1 &\")\n",
    "      time.sleep(5)\n",
    "      attempt = 0\n",
    "      delay = initial_delay\n",
    "\n",
    "      while attempt < max_attempts:\n",
    "          try:\n",
    "              with open(out) as f:\n",
    "                for l in f.read().split(\"\\n\"):\n",
    "                  log_entry = l\n",
    "                  url_pattern = r\"https?://[^\\s]*trycloudflare\\.com[^\\s]*\"\n",
    "                  url_match = re.search(url_pattern, log_entry)\n",
    "                  if url_match: return urlparse(url_match.group(0)).hostname\n",
    "                raise ValueError(\"URL not found\")\n",
    "          except:\n",
    "              attempt += 1\n",
    "              if attempt < max_attempts:\n",
    "                  time.sleep(delay)\n",
    "                  delay *= 2  # Exponential backoff\n",
    "              else: return None\n",
    "    except: return None\n",
    "\n",
    "\n",
    "# scripts\n",
    "htmx,fasthtml_js = \"https://unpkg.com/htmx.org@2.0.2\", \"https://cdn.jsdelivr.net/gh/answerdotai/fasthtml-js@1.0.4/fasthtml.js\"\n",
    "# styles + fonts\n",
    "styles,blk_css,font_css = \"/styles.css\",\"https://unpkg.com/blocks.css/dist/blocks.min.css\",\"https://fonts.googleapis.com/css2?family=IBM+Plex+Mono:wght@500;700&amp;display=swap\"\n",
    "inline_styles = [Style(urlopen(\"https://raw.githubusercontent.com/callmephilip/htmx-cookbook/refs/heads/main/styles.css\").read().decode('utf-8'))]\n",
    "hdrs = [Script(src=s) for s in [htmx, fasthtml_js]] + [Link(href=style, rel=\"stylesheet\") for style in [blk_css,styles,font_css]] + inline_styles\n",
    "\n",
    "def server_error(request: Request, exc: HTTPException): return HTMLResponse(content=''.join(traceback.format_exception(exc)), status_code=500)\n",
    "\n",
    "app = FastJupy(default_hdrs=False, hdrs=hdrs, exception_handlers={ 500: server_error, Exception: server_error })\n",
    "rt, server = app.route, ColabFriendlyJupyUvi(app, port=8000, start=False)\n",
    "app_host = server.start()\n",
    "\n",
    "def run_cookbook_recipe(path: str): return HTMX(host=app_host or \"localhost\", path=path, protocol=\"https\" if app_host else \"http\")"
   ]
  },
  {
   "cell_type": "code",
   "execution_count": 3,
   "id": "d028752f-95c2-4107-b0b1-9dedf05239c2",
   "metadata": {},
   "outputs": [
    {
     "data": {
      "text/html": [
       "<iframe src=http://localhost:8000/ style=\"width: 100%; height: auto; border: none;\" onload=\"{\n",
       "        let frame = this;\n",
       "        window.addEventListener('message', function(e) {\n",
       "            if (e.data.height) frame.style.height = (e.data.height+1) + 'px';\n",
       "        }, false);\n",
       "    }\" allow=\"accelerometer; autoplay; camera; clipboard-read; clipboard-write; display-capture; encrypted-media; fullscreen; gamepad; geolocation; gyroscope; hid; identity-credentials-get; idle-detection; magnetometer; microphone; midi; payment; picture-in-picture; publickey-credentials-get; screen-wake-lock; serial; usb; web-share; xr-spatial-tracking\"></iframe> "
      ],
      "text/plain": [
       "<IPython.core.display.HTML object>"
      ]
     },
     "execution_count": 3,
     "metadata": {},
     "output_type": "execute_result"
    }
   ],
   "source": [
    "@rt(path=\"/\")\n",
    "def get():\n",
    "    return Playground(\n",
    "        H1(\"HTMX cookbook\"),\n",
    "        P(\"This is very much WIP. Please leave your comments/requests on Github\"),\n",
    "        Div(\"Let's get started 👇\", cls=\"wrapper animate-bounce block\"),\n",
    "        path=\"/\"\n",
    "    )\n",
    "\n",
    "run_cookbook_recipe(path=\"/\")"
   ]
  },
  {
   "cell_type": "markdown",
   "id": "588aa3ac-edc3-43f9-8232-9cd11c5e32ca",
   "metadata": {},
   "source": [
    "# Basic action\n",
    "\n",
    "Grab some stuff from a URL on click"
   ]
  },
  {
   "cell_type": "code",
   "execution_count": 4,
   "id": "58d910fd-89da-4b06-b25d-a631c9bbbc6d",
   "metadata": {},
   "outputs": [
    {
     "data": {
      "text/html": [
       "<iframe src=http://localhost:8000/get-on-click style=\"width: 100%; height: auto; border: none;\" onload=\"{\n",
       "        let frame = this;\n",
       "        window.addEventListener('message', function(e) {\n",
       "            if (e.data.height) frame.style.height = (e.data.height+1) + 'px';\n",
       "        }, false);\n",
       "    }\" allow=\"accelerometer; autoplay; camera; clipboard-read; clipboard-write; display-capture; encrypted-media; fullscreen; gamepad; geolocation; gyroscope; hid; identity-credentials-get; idle-detection; magnetometer; microphone; midi; payment; picture-in-picture; publickey-credentials-get; screen-wake-lock; serial; usb; web-share; xr-spatial-tracking\"></iframe> "
      ],
      "text/plain": [
       "<IPython.core.display.HTML object>"
      ]
     },
     "execution_count": 4,
     "metadata": {},
     "output_type": "execute_result"
    }
   ],
   "source": [
    "@rt(\"/data\")\n",
    "def get(): return Span(\"😱 i am trapped inside the button now!\")\n",
    "\n",
    "@rt(path=\"/get-on-click\")\n",
    "def get(): return Playground(ActionButton(\"Get some data\", hx_get=\"/data\"), path=\"/get-on-click\")\n",
    "\n",
    "run_cookbook_recipe(path=\"/get-on-click\")"
   ]
  },
  {
   "cell_type": "markdown",
   "id": "c7624468-b7af-4888-b49b-9ddee5030459",
   "metadata": {},
   "source": [
    "# Custom trigger attribute "
   ]
  },
  {
   "cell_type": "code",
   "execution_count": 5,
   "id": "094bc47a-efa2-4472-a258-eafa2eeecc22",
   "metadata": {},
   "outputs": [
    {
     "data": {
      "text/html": [
       "<iframe src=http://localhost:8000/html2ft style=\"width: 100%; height: auto; border: none;\" onload=\"{\n",
       "        let frame = this;\n",
       "        window.addEventListener('message', function(e) {\n",
       "            if (e.data.height) frame.style.height = (e.data.height+1) + 'px';\n",
       "        }, false);\n",
       "    }\" allow=\"accelerometer; autoplay; camera; clipboard-read; clipboard-write; display-capture; encrypted-media; fullscreen; gamepad; geolocation; gyroscope; hid; identity-credentials-get; idle-detection; magnetometer; microphone; midi; payment; picture-in-picture; publickey-credentials-get; screen-wake-lock; serial; usb; web-share; xr-spatial-tracking\"></iframe> "
      ],
      "text/plain": [
       "<IPython.core.display.HTML object>"
      ]
     },
     "execution_count": 5,
     "metadata": {},
     "output_type": "execute_result"
    }
   ],
   "source": [
    "from time import sleep\n",
    "\n",
    "@dataclass\n",
    "class Html2FT: html: str\n",
    "\n",
    "@rt(\"/html2ft/convert\")\n",
    "def post(data: Html2FT): \n",
    "    sleep(5)\n",
    "    return html2ft(data.html) \n",
    "\n",
    "on_paste = \"\"\"\n",
    "document.querySelector(\"#txt-html\").addEventListener(\"paste\", function (event) { setTimeout(() => {event.target.blur();}, 500) });\n",
    "\"\"\"\n",
    "\n",
    "@rt(\"/html2ft\")\n",
    "def get():\n",
    "    return Playground(\n",
    "        Div(\n",
    "            Div(\n",
    "                P(\"Convert HTML to FT\"),\n",
    "                MultilineTextbox(name=\"html\", placeholder=\"paste html here\", cls=\"w-100 h-80\", id=\"txt-html\", hx_post=\"/html2ft/convert\", hx_trigger=\"blur\", hx_target=\"#result\", hx_indicator=\"#processing-indicator\"),\n",
    "                Strong(\"Processing...\", id=\"processing-indicator\", cls=\"htmx-indicator\"),\n",
    "                cls=\"flex-grow-1 h-300px\"\n",
    "            ),\n",
    "            Div(\n",
    "                Code(id=\"result\", cls=\"white-space-pre-wrap text-align-left\"),\n",
    "                cls=\"flex-grow-2 h-300px text-align-left\", style=\"padding-left: 5rem;\"\n",
    "            ),\n",
    "            cls=\"flex flex-row\"\n",
    "        ),\n",
    "        Script(code=on_paste),\n",
    "        path=\"/html2ft\"\n",
    "    )\n",
    "\n",
    "run_cookbook_recipe(path=\"/html2ft\")"
   ]
  },
  {
   "cell_type": "markdown",
   "id": "d845ca47-dc6b-4dff-9e46-639e02891b39",
   "metadata": {},
   "source": [
    "# You can also post some data over"
   ]
  },
  {
   "cell_type": "code",
   "execution_count": 6,
   "id": "3e0cafc9-1eff-4489-9dad-b809d559437e",
   "metadata": {},
   "outputs": [
    {
     "data": {
      "text/html": [
       "<iframe src=http://localhost:8000/login style=\"width: 100%; height: auto; border: none;\" onload=\"{\n",
       "        let frame = this;\n",
       "        window.addEventListener('message', function(e) {\n",
       "            if (e.data.height) frame.style.height = (e.data.height+1) + 'px';\n",
       "        }, false);\n",
       "    }\" allow=\"accelerometer; autoplay; camera; clipboard-read; clipboard-write; display-capture; encrypted-media; fullscreen; gamepad; geolocation; gyroscope; hid; identity-credentials-get; idle-detection; magnetometer; microphone; midi; payment; picture-in-picture; publickey-credentials-get; screen-wake-lock; serial; usb; web-share; xr-spatial-tracking\"></iframe> "
      ],
      "text/plain": [
       "<IPython.core.display.HTML object>"
      ]
     },
     "execution_count": 6,
     "metadata": {},
     "output_type": "execute_result"
    }
   ],
   "source": [
    "from password_strength import PasswordStats\n",
    "\n",
    "@dataclass\n",
    "class LoginData: email: str; pw:str \n",
    "\n",
    "@rt(\"/login\")\n",
    "def post(ld: LoginData): return Span(f\"You are logged in!\")\n",
    "\n",
    "@rt(\"/login/validation\")\n",
    "def post(ld: LoginData): \n",
    "    strength = int(PasswordStats(ld.pw).strength() * 10) if ld.pw else 0\n",
    "    if strength > 7:\n",
    "        c = \"green\"\n",
    "    elif strength > 5:\n",
    "        c = \"orange\"\n",
    "    else: c = \"red\"\n",
    "    \n",
    "    return Div(\"✅\" if \"@\" in ld.email else \"🔴\", id=\"email-validator\", hx_swap_oob=\"true\"), strength > 0 and Div(\n",
    "        Div(*[Div(\"+\", cls=f\"text-{c}\") if i + 1 <= strength else Div(\"_\", cls=\"tex-gray\") for i in range(9)], cls=\"flex flex-row\"),\n",
    "        id=\"password-validator\",\n",
    "        hx_swap_oob=\"true\"\n",
    "    )\n",
    "\n",
    "@rt(\"/login\")\n",
    "def get():\n",
    "    return Playground(\n",
    "        Form(\n",
    "            Div(\n",
    "                Textbox(name=\"email\", placeholder=\"Email\", hx_post=\"/login/validation\", hx_trigger=\"keyup\"), \n",
    "                Div(id=\"email-validator\"),\n",
    "                cls=\"flex flex-row\"\n",
    "            ),\n",
    "            Div(\n",
    "                Password(name=\"pw\", placeholder=\"Password\", hx_post=\"/login/validation\", hx_trigger=\"keyup\"),\n",
    "                Div(id=\"password-validator\"),\n",
    "                cls=\"flex flex-row\"\n",
    "            ),\n",
    "            ActionButton(\"Go!\"),\n",
    "            hx_post=\"/login\"\n",
    "        ), \n",
    "        path=\"/login\")\n",
    " \n",
    "run_cookbook_recipe(path=\"/login\")"
   ]
  }
 ],
 "metadata": {
  "kernelspec": {
   "display_name": "Python 3 (ipykernel)",
   "language": "python",
   "name": "python3"
  },
  "language_info": {
   "codemirror_mode": {
    "name": "ipython",
    "version": 3
   },
   "file_extension": ".py",
   "mimetype": "text/x-python",
   "name": "python",
   "nbconvert_exporter": "python",
   "pygments_lexer": "ipython3",
   "version": "3.10.9"
  }
 },
 "nbformat": 4,
 "nbformat_minor": 5
}
