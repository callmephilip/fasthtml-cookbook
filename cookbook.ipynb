{
  "cells": [
    {
      "cell_type": "markdown",
      "id": "e6583059-e483-4c79-81ce-c05e1caf339c",
      "metadata": {
        "id": "e6583059-e483-4c79-81ce-c05e1caf339c"
      },
      "source": [
        "# Welcome to HTMX cookbook\n",
        "\n",
        "> Please note, this very much WIP. If you have certain recipes that you want to share or want to see, head to [Github](https://github.com/callmephilip/htmx-cookbook)\n",
        "\n",
        "This cookbook is powered by [FastHTML](https://fastht.ml/). UI is based on [block.css](https://github.com/thesephist/blocks.css)\n",
        "\n",
        "## Getting started\n",
        "\n",
        "```\n",
        "python -m venv .env\n",
        "source .env/bin/activate\n",
        "pip install notebook\n",
        "jupyter notebook\n",
        "```\n",
        "\n",
        "The easiest way to run this is to smash `Run -> Run All Cells`. To iterate on a specific recipe, update code in the corresponding cell and rerun it\n",
        "\n",
        "![Screenshot](https://github.com/callmephilip/htmx-cookbook/blob/main/cookbook.gif?raw=1)"
      ]
    },
    {
      "cell_type": "code",
      "execution_count": null,
      "id": "a9ffec27-55da-475a-931f-a7585b802f9a",
      "metadata": {
        "id": "a9ffec27-55da-475a-931f-a7585b802f9a"
      },
      "outputs": [],
      "source": [
        "! pip install --no-cache-dir python-fasthtml git+https://github.com/callmephilip/fasthtml-nb-ext.git"
      ]
    },
    {
      "cell_type": "code",
      "execution_count": 2,
      "id": "8e323374-59d9-44c5-ae22-6ef38279828b",
      "metadata": {
        "id": "8e323374-59d9-44c5-ae22-6ef38279828b"
      },
      "outputs": [],
      "source": [
        "# Setup - you can largely ignore this unless you wan to tweak how the cookbook works\n",
        "\n",
        "import traceback\n",
        "from urllib.request import urlopen\n",
        "from fasthtml.common import *\n",
        "from fasthtml.jupyter import *\n",
        "from fasthtml_nb_ext import Playground\n",
        "\n",
        "# UI\n",
        "def prettify(f):\n",
        "    def _f(*args, **kw): return f(*args, **(kw | { \"cls\": \"block \" + kw.get(\"cls\",\"\") }))\n",
        "    return _f\n",
        "\n",
        "@prettify\n",
        "def Panel(*content, **kw): return Div(*content, **kw)\n",
        "\n",
        "@prettify\n",
        "def Textbox(*content, **kw): return Input(*content, **kw)\n",
        "\n",
        "@prettify\n",
        "def Password(*content, **kw): return Input(type=\"password\", *content, **kw)\n",
        "\n",
        "@prettify\n",
        "def MultilineTextbox(*content, **kw): return Textarea(*content, **kw)\n",
        "\n",
        "@prettify\n",
        "def ActionButton(*content, **kw): return Button(*content, **kw)\n",
        "\n",
        "def AddressBar(*content, **kw): return Textbox(*content, readonly=True, **kw)\n",
        "\n",
        "on_response_error = \"\"\"document.querySelector(\"#errors\").innerHTML = event.detail.xhr.responseText; document.querySelector(\".error-box\").classList.add(\"show\");\"\"\"\n",
        "\n",
        "def PlaygroundUI(*content, path:str): return ErrorBox(), Panel(AddressBar(value=f\"🌎 http://localhost:8000{path}\", cls=\"w-100\"), Hr(), *content, HtmxOn(\"responseError\", on_response_error), cls=\"h-fullish\")\n",
        "def ErrorBox():\n",
        "    return Panel(cls=\"error-box\")(\n",
        "        Div(cls=\"flex flex-row\")(\n",
        "            Div(P(\"Oh 🦌!\")), \n",
        "            Div(cls=\"flex-grow-1 text-align-right\")(\n",
        "                ActionButton(cls=\"display-inline\", onclick=\"document.querySelector('.error-box').classList.remove('show')\")(\"x\")\n",
        "            )\n",
        "        ),\n",
        "        Hr(),\n",
        "        P(id=\"errors\")\n",
        "    )\n",
        "\n",
        "\n",
        "# scripts\n",
        "htmx,fasthtml_js = \"https://unpkg.com/htmx.org@2.0.2\", \"https://cdn.jsdelivr.net/gh/answerdotai/fasthtml-js@1.0.4/fasthtml.js\"\n",
        "# styles + fonts\n",
        "styles,blk_css,font_css = \"/styles.css\",\"https://unpkg.com/blocks.css/dist/blocks.min.css\",\"https://fonts.googleapis.com/css2?family=IBM+Plex+Mono:wght@500;700&amp;display=swap\"\n",
        "inline_styles = [Style(urlopen(\"https://raw.githubusercontent.com/callmephilip/htmx-cookbook/refs/heads/main/styles.css\").read().decode('utf-8'))]\n",
        "hdrs = [Script(src=s) for s in [htmx, fasthtml_js]] + [Link(href=style, rel=\"stylesheet\") for style in [blk_css,styles,font_css]] + inline_styles\n",
        "\n",
        "def server_error(request: Request, exc: HTTPException): return HTMLResponse(content=''.join(traceback.format_exception(exc)), status_code=500)\n",
        "\n",
        "Playground.config(default_hdrs=False, hdrs=hdrs, exception_handlers={ 500: server_error, Exception: server_error })"
      ]
    },
    {
      "cell_type": "code",
      "execution_count": null,
      "id": "T0Vva0S7h6hz",
      "metadata": {
        "colab": {
          "base_uri": "https://localhost:8080/",
          "height": 297
        },
        "id": "T0Vva0S7h6hz",
        "outputId": "c53ae701-7263-41ce-cbb2-50346a5f0bec"
      },
      "outputs": [],
      "source": [
        "with Playground(path=\"/\") as playground:\n",
        "  @playground.rt(path=\"/\")\n",
        "  def get():\n",
        "      return PlaygroundUI(\n",
        "          H1(\"HTMX cookbook\"),\n",
        "          P(\"This is very much WIP. Please leave your comments/requests on Github\"),\n",
        "          Div(\"Let's get started 👇\", cls=\"wrapper animate-bounce block\"),\n",
        "          path=\"/\"\n",
        "      )\n"
      ]
    },
    {
      "cell_type": "markdown",
      "id": "588aa3ac-edc3-43f9-8232-9cd11c5e32ca",
      "metadata": {
        "id": "588aa3ac-edc3-43f9-8232-9cd11c5e32ca"
      },
      "source": [
        "# Basic action\n",
        "\n",
        "Grab some stuff from a URL on click"
      ]
    },
    {
      "cell_type": "code",
      "execution_count": null,
      "id": "58d910fd-89da-4b06-b25d-a631c9bbbc6d",
      "metadata": {
        "colab": {
          "base_uri": "https://localhost:8080/",
          "height": 194
        },
        "id": "58d910fd-89da-4b06-b25d-a631c9bbbc6d",
        "outputId": "185a56fe-6ef1-4f0d-92c9-3b76e315319a"
      },
      "outputs": [],
      "source": [
        "with Playground(path=\"/get-on-click\") as playground:\n",
        "  @playground.rt(\"/data\")\n",
        "  def get(): return Span(\"😱 i am trapped inside the button now!\")\n",
        "  @playground.rt(path=\"/get-on-click\")\n",
        "  def get(): return PlaygroundUI(ActionButton(\"Get some data\", hx_get=\"/data\"), path=\"/get-on-click\")\n"
      ]
    },
    {
      "cell_type": "markdown",
      "id": "c7624468-b7af-4888-b49b-9ddee5030459",
      "metadata": {
        "id": "c7624468-b7af-4888-b49b-9ddee5030459"
      },
      "source": [
        "# Custom trigger attribute"
      ]
    },
    {
      "cell_type": "code",
      "execution_count": null,
      "id": "094bc47a-efa2-4472-a258-eafa2eeecc22",
      "metadata": {
        "colab": {
          "base_uri": "https://localhost:8080/",
          "height": 272
        },
        "id": "094bc47a-efa2-4472-a258-eafa2eeecc22",
        "outputId": "45b2d9c1-7167-43b2-c815-a66dbe27350e"
      },
      "outputs": [],
      "source": [
        "from time import sleep\n",
        "\n",
        "\n",
        "with Playground(path=\"/html2ft\") as playground:\n",
        "  @dataclass\n",
        "  class Html2FT: html: str\n",
        "\n",
        "  @playground.rt(\"/html2ft/convert\")\n",
        "  def post(data: Html2FT):\n",
        "      sleep(5)\n",
        "      return html2ft(data.html)\n",
        "\n",
        "  on_paste = \"\"\"\n",
        "  document.querySelector(\"#txt-html\").addEventListener(\"paste\", function (event) { setTimeout(() => {event.target.blur();}, 500) });\n",
        "  \"\"\"\n",
        "\n",
        "  @playground.rt(\"/html2ft\")\n",
        "  def get():\n",
        "    return PlaygroundUI(\n",
        "        Div(cls=\"flex flex-row\")(\n",
        "            Div(cls=\"flex-grow-1 h-300px\")(\n",
        "                P(\"Convert HTML to FT\"),\n",
        "                MultilineTextbox(name=\"html\", placeholder=\"paste html here\", cls=\"w-100 h-80\", id=\"txt-html\", hx_post=\"/html2ft/convert\", hx_trigger=\"blur\", hx_target=\"#result\", hx_indicator=\"#processing-indicator\"),\n",
        "                Strong(id=\"processing-indicator\", cls=\"htmx-indicator\")(\"Processing...\")\n",
        "            ),\n",
        "            Div(cls=\"flex-grow-2 h-300px text-align-left\", style=\"padding-left: 5rem;\")(\n",
        "                Code(id=\"result\", cls=\"white-space-pre-wrap text-align-left\")\n",
        "            )\n",
        "        ),\n",
        "        Script(code=on_paste),\n",
        "        path=\"/html2ft\"\n",
        "    )"
      ]
    },
    {
      "cell_type": "markdown",
      "id": "d845ca47-dc6b-4dff-9e46-639e02891b39",
      "metadata": {
        "id": "d845ca47-dc6b-4dff-9e46-639e02891b39"
      },
      "source": [
        "# You can also post some data over"
      ]
    },
    {
      "cell_type": "code",
      "execution_count": null,
      "id": "3e0cafc9-1eff-4489-9dad-b809d559437e",
      "metadata": {
        "colab": {
          "base_uri": "https://localhost:8080/",
          "height": 538
        },
        "id": "3e0cafc9-1eff-4489-9dad-b809d559437e",
        "outputId": "ce38b9b0-c00e-41dd-de34-cb164c3a1dd8"
      },
      "outputs": [],
      "source": [
        "from password_strength import PasswordStats\n",
        "\n",
        "with Playground(path=\"/login\") as playground:\n",
        "  @dataclass\n",
        "  class LoginData: email: str; pw:str\n",
        "\n",
        "  @playground.rt(\"/login\")\n",
        "  def post(ld: LoginData): return Span(f\"You are logged in!\")\n",
        "\n",
        "  @playground.rt(\"/login/validation\")\n",
        "  def post(ld: LoginData):\n",
        "    strength = int(PasswordStats(ld.pw).strength() * 10) if ld.pw else 0\n",
        "    if strength > 7:\n",
        "        c = \"green\"\n",
        "    elif strength > 5:\n",
        "        c = \"orange\"\n",
        "    else: c = \"red\"\n",
        "\n",
        "    return Div(id=\"email-validator\", hx_swap_oob=\"true\")(\"✅\" if \"@\" in ld.email else \"🔴\"), strength > 0 and Div(id=\"password-validator\", hx_swap_oob=\"true\")(\n",
        "        Div(cls=\"flex flex-row\")(\n",
        "            *[Div(cls=f\"text-{c}\")(\"+\") if i + 1 <= strength else Div(cls=\"tex-gray\")(\"_\") for i in range(9)]\n",
        "        )\n",
        "    )\n",
        "\n",
        "  @playground.rt(\"/login\")\n",
        "  def get():\n",
        "    return PlaygroundUI(\n",
        "        Form(hx_post=\"/login\")(\n",
        "            Div(cls=\"flex flex-row\")(\n",
        "                Textbox(name=\"email\", placeholder=\"Email\", hx_post=\"/login/validation\", hx_trigger=\"keyup\"),\n",
        "                Div(id=\"email-validator\")\n",
        "            ),\n",
        "            Div(cls=\"flex flex-row\")(\n",
        "                Password(name=\"pw\", placeholder=\"Password\", hx_post=\"/login/validation\", hx_trigger=\"keyup\"),\n",
        "                Div(id=\"password-validator\")\n",
        "            ),\n",
        "            ActionButton(\"Go!\"),\n",
        "        ),\n",
        "        path=\"/login\"\n",
        "    )\n"
      ]
    }
  ],
  "metadata": {
    "colab": {
      "provenance": []
    },
    "kernelspec": {
      "display_name": "Python 3 (ipykernel)",
      "language": "python",
      "name": "python3"
    },
    "language_info": {
      "codemirror_mode": {
        "name": "ipython",
        "version": 3
      },
      "file_extension": ".py",
      "mimetype": "text/x-python",
      "name": "python",
      "nbconvert_exporter": "python",
      "pygments_lexer": "ipython3",
      "version": "3.10.9"
    }
  },
  "nbformat": 4,
  "nbformat_minor": 5
}
