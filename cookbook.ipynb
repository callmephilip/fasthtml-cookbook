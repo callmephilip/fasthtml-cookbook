{
 "cells": [
  {
   "cell_type": "markdown",
   "id": "e6583059-e483-4c79-81ce-c05e1caf339c",
   "metadata": {
    "id": "e6583059-e483-4c79-81ce-c05e1caf339c"
   },
   "source": [
    "# Welcome to FastHTML cookbook\n",
    "\n",
    "> Please note, this very much WIP. If you have certain recipes that you want to share or want to see, head to [Github](https://github.com/callmephilip/htmx-cookbook)\n",
    "\n",
    "This cookbook is powered by [FastHTML](https://fastht.ml/). UI is based on [block.css](https://github.com/thesephist/blocks.css)\n",
    "\n",
    "## Getting started\n",
    "\n",
    "```\n",
    "python -m venv .env\n",
    "source .env/bin/activate\n",
    "pip install notebook\n",
    "jupyter notebook\n",
    "```\n",
    "\n",
    "The easiest way to run this is to smash `Run -> Run All Cells`. To iterate on a specific recipe, update code in the corresponding cell and rerun it\n",
    "\n",
    "![Screenshot](https://github.com/callmephilip/htmx-cookbook/blob/main/cookbook.gif?raw=1)"
   ]
  },
  {
   "cell_type": "code",
   "execution_count": 1,
   "id": "a9ffec27-55da-475a-931f-a7585b802f9a",
   "metadata": {
    "id": "a9ffec27-55da-475a-931f-a7585b802f9a"
   },
   "outputs": [
    {
     "name": "stdout",
     "output_type": "stream",
     "text": [
      "Collecting git+https://github.com/callmephilip/fasthtml-nb-ext.git\n",
      "  Cloning https://github.com/callmephilip/fasthtml-nb-ext.git to /private/var/folders/6_/kmpf38495hzcv9549vccky700000gn/T/pip-req-build-_3hzbebx\n",
      "  Running command git clone --filter=blob:none --quiet https://github.com/callmephilip/fasthtml-nb-ext.git /private/var/folders/6_/kmpf38495hzcv9549vccky700000gn/T/pip-req-build-_3hzbebx\n",
      "  Resolved https://github.com/callmephilip/fasthtml-nb-ext.git to commit c1a5d7c4dc93cec9a08a41edb3414229d5724785\n",
      "  Installing build dependencies ... \u001b[?25ldone\n",
      "\u001b[?25h  Getting requirements to build wheel ... \u001b[?25ldone\n",
      "\u001b[?25h  Preparing metadata (pyproject.toml) ... \u001b[?25ldone\n",
      "\u001b[?25hRequirement already satisfied: python-fasthtml in ./cookbook-env/lib/python3.10/site-packages (0.6.14)\n",
      "Requirement already satisfied: password-strength in ./cookbook-env/lib/python3.10/site-packages (0.0.3.post2)\n",
      "Requirement already satisfied: python-dateutil in ./cookbook-env/lib/python3.10/site-packages (from python-fasthtml) (2.9.0.post0)\n",
      "Requirement already satisfied: fastlite>=0.0.9 in ./cookbook-env/lib/python3.10/site-packages (from python-fasthtml) (0.0.13)\n",
      "Requirement already satisfied: starlette>0.33 in ./cookbook-env/lib/python3.10/site-packages (from python-fasthtml) (0.41.2)\n",
      "Requirement already satisfied: oauthlib in ./cookbook-env/lib/python3.10/site-packages (from python-fasthtml) (3.2.2)\n",
      "Requirement already satisfied: python-multipart in ./cookbook-env/lib/python3.10/site-packages (from python-fasthtml) (0.0.17)\n",
      "Requirement already satisfied: fastcore>=1.7.18 in ./cookbook-env/lib/python3.10/site-packages (from python-fasthtml) (1.7.19)\n",
      "Requirement already satisfied: httpx in ./cookbook-env/lib/python3.10/site-packages (from python-fasthtml) (0.27.2)\n",
      "Requirement already satisfied: beautifulsoup4 in ./cookbook-env/lib/python3.10/site-packages (from python-fasthtml) (4.12.3)\n",
      "Requirement already satisfied: itsdangerous in ./cookbook-env/lib/python3.10/site-packages (from python-fasthtml) (2.2.0)\n",
      "Requirement already satisfied: uvicorn[standard]>=0.30 in ./cookbook-env/lib/python3.10/site-packages (from python-fasthtml) (0.32.0)\n",
      "Requirement already satisfied: six in ./cookbook-env/lib/python3.10/site-packages (from password-strength) (1.16.0)\n",
      "Requirement already satisfied: packaging in ./cookbook-env/lib/python3.10/site-packages (from fastcore>=1.7.18->python-fasthtml) (24.1)\n",
      "Requirement already satisfied: sqlite-minutils>=3.37.0.post4 in ./cookbook-env/lib/python3.10/site-packages (from fastlite>=0.0.9->python-fasthtml) (4.0.0)\n",
      "Requirement already satisfied: anyio<5,>=3.4.0 in ./cookbook-env/lib/python3.10/site-packages (from starlette>0.33->python-fasthtml) (4.6.2.post1)\n",
      "Requirement already satisfied: h11>=0.8 in ./cookbook-env/lib/python3.10/site-packages (from uvicorn[standard]>=0.30->python-fasthtml) (0.14.0)\n",
      "Requirement already satisfied: click>=7.0 in ./cookbook-env/lib/python3.10/site-packages (from uvicorn[standard]>=0.30->python-fasthtml) (8.1.7)\n",
      "Requirement already satisfied: typing-extensions>=4.0 in ./cookbook-env/lib/python3.10/site-packages (from uvicorn[standard]>=0.30->python-fasthtml) (4.12.2)\n",
      "Requirement already satisfied: httptools>=0.5.0 in ./cookbook-env/lib/python3.10/site-packages (from uvicorn[standard]>=0.30->python-fasthtml) (0.6.4)\n",
      "Requirement already satisfied: uvloop!=0.15.0,!=0.15.1,>=0.14.0 in ./cookbook-env/lib/python3.10/site-packages (from uvicorn[standard]>=0.30->python-fasthtml) (0.21.0)\n",
      "Requirement already satisfied: websockets>=10.4 in ./cookbook-env/lib/python3.10/site-packages (from uvicorn[standard]>=0.30->python-fasthtml) (13.1)\n",
      "Requirement already satisfied: watchfiles>=0.13 in ./cookbook-env/lib/python3.10/site-packages (from uvicorn[standard]>=0.30->python-fasthtml) (0.24.0)\n",
      "Requirement already satisfied: python-dotenv>=0.13 in ./cookbook-env/lib/python3.10/site-packages (from uvicorn[standard]>=0.30->python-fasthtml) (1.0.1)\n",
      "Requirement already satisfied: pyyaml>=5.1 in ./cookbook-env/lib/python3.10/site-packages (from uvicorn[standard]>=0.30->python-fasthtml) (6.0.2)\n",
      "Requirement already satisfied: soupsieve>1.2 in ./cookbook-env/lib/python3.10/site-packages (from beautifulsoup4->python-fasthtml) (2.6)\n",
      "Requirement already satisfied: certifi in ./cookbook-env/lib/python3.10/site-packages (from httpx->python-fasthtml) (2024.8.30)\n",
      "Requirement already satisfied: sniffio in ./cookbook-env/lib/python3.10/site-packages (from httpx->python-fasthtml) (1.3.1)\n",
      "Requirement already satisfied: idna in ./cookbook-env/lib/python3.10/site-packages (from httpx->python-fasthtml) (3.10)\n",
      "Requirement already satisfied: httpcore==1.* in ./cookbook-env/lib/python3.10/site-packages (from httpx->python-fasthtml) (1.0.6)\n",
      "Requirement already satisfied: exceptiongroup>=1.0.2 in ./cookbook-env/lib/python3.10/site-packages (from anyio<5,>=3.4.0->starlette>0.33->python-fasthtml) (1.2.2)\n",
      "\n",
      "\u001b[1m[\u001b[0m\u001b[34;49mnotice\u001b[0m\u001b[1;39;49m]\u001b[0m\u001b[39;49m A new release of pip available: \u001b[0m\u001b[31;49m22.3.1\u001b[0m\u001b[39;49m -> \u001b[0m\u001b[32;49m24.3.1\u001b[0m\n",
      "\u001b[1m[\u001b[0m\u001b[34;49mnotice\u001b[0m\u001b[1;39;49m]\u001b[0m\u001b[39;49m To update, run: \u001b[0m\u001b[32;49mpip install --upgrade pip\u001b[0m\n"
     ]
    }
   ],
   "source": [
    "! pip install --no-cache-dir python-fasthtml git+https://github.com/callmephilip/fasthtml-nb-ext.git password-strength"
   ]
  },
  {
   "cell_type": "code",
   "execution_count": 2,
   "id": "ac67d2cb-7c76-44b1-90c6-63e3c0a57304",
   "metadata": {},
   "outputs": [
    {
     "name": "stdout",
     "output_type": "stream",
     "text": [
      "Collecting git+https://github.com/callmephilip/fasthtml-nb-ext.git\n",
      "  Cloning https://github.com/callmephilip/fasthtml-nb-ext.git to /private/var/folders/6_/kmpf38495hzcv9549vccky700000gn/T/pip-req-build-cc0d3szx\n",
      "  Running command git clone --filter=blob:none --quiet https://github.com/callmephilip/fasthtml-nb-ext.git /private/var/folders/6_/kmpf38495hzcv9549vccky700000gn/T/pip-req-build-cc0d3szx\n",
      "  Resolved https://github.com/callmephilip/fasthtml-nb-ext.git to commit c1a5d7c4dc93cec9a08a41edb3414229d5724785\n",
      "  Installing build dependencies ... \u001b[?25ldone\n",
      "\u001b[?25h  Getting requirements to build wheel ... \u001b[?25ldone\n",
      "\u001b[?25h  Preparing metadata (pyproject.toml) ... \u001b[?25ldone\n",
      "\u001b[?25hRequirement already satisfied: python-fasthtml<0.7.0,>=0.6.9 in ./cookbook-env/lib/python3.10/site-packages (from fasthtml-nb-ext==0.1.0a0) (0.6.14)\n",
      "Requirement already satisfied: oauthlib in ./cookbook-env/lib/python3.10/site-packages (from python-fasthtml<0.7.0,>=0.6.9->fasthtml-nb-ext==0.1.0a0) (3.2.2)\n",
      "Requirement already satisfied: fastcore>=1.7.18 in ./cookbook-env/lib/python3.10/site-packages (from python-fasthtml<0.7.0,>=0.6.9->fasthtml-nb-ext==0.1.0a0) (1.7.19)\n",
      "Requirement already satisfied: beautifulsoup4 in ./cookbook-env/lib/python3.10/site-packages (from python-fasthtml<0.7.0,>=0.6.9->fasthtml-nb-ext==0.1.0a0) (4.12.3)\n",
      "Requirement already satisfied: itsdangerous in ./cookbook-env/lib/python3.10/site-packages (from python-fasthtml<0.7.0,>=0.6.9->fasthtml-nb-ext==0.1.0a0) (2.2.0)\n",
      "Requirement already satisfied: python-dateutil in ./cookbook-env/lib/python3.10/site-packages (from python-fasthtml<0.7.0,>=0.6.9->fasthtml-nb-ext==0.1.0a0) (2.9.0.post0)\n",
      "Requirement already satisfied: httpx in ./cookbook-env/lib/python3.10/site-packages (from python-fasthtml<0.7.0,>=0.6.9->fasthtml-nb-ext==0.1.0a0) (0.27.2)\n",
      "Requirement already satisfied: python-multipart in ./cookbook-env/lib/python3.10/site-packages (from python-fasthtml<0.7.0,>=0.6.9->fasthtml-nb-ext==0.1.0a0) (0.0.17)\n",
      "Requirement already satisfied: fastlite>=0.0.9 in ./cookbook-env/lib/python3.10/site-packages (from python-fasthtml<0.7.0,>=0.6.9->fasthtml-nb-ext==0.1.0a0) (0.0.13)\n",
      "Requirement already satisfied: uvicorn[standard]>=0.30 in ./cookbook-env/lib/python3.10/site-packages (from python-fasthtml<0.7.0,>=0.6.9->fasthtml-nb-ext==0.1.0a0) (0.32.0)\n",
      "Requirement already satisfied: starlette>0.33 in ./cookbook-env/lib/python3.10/site-packages (from python-fasthtml<0.7.0,>=0.6.9->fasthtml-nb-ext==0.1.0a0) (0.41.2)\n",
      "Requirement already satisfied: packaging in ./cookbook-env/lib/python3.10/site-packages (from fastcore>=1.7.18->python-fasthtml<0.7.0,>=0.6.9->fasthtml-nb-ext==0.1.0a0) (24.1)\n",
      "Requirement already satisfied: sqlite-minutils>=3.37.0.post4 in ./cookbook-env/lib/python3.10/site-packages (from fastlite>=0.0.9->python-fasthtml<0.7.0,>=0.6.9->fasthtml-nb-ext==0.1.0a0) (4.0.0)\n",
      "Requirement already satisfied: anyio<5,>=3.4.0 in ./cookbook-env/lib/python3.10/site-packages (from starlette>0.33->python-fasthtml<0.7.0,>=0.6.9->fasthtml-nb-ext==0.1.0a0) (4.6.2.post1)\n",
      "Requirement already satisfied: click>=7.0 in ./cookbook-env/lib/python3.10/site-packages (from uvicorn[standard]>=0.30->python-fasthtml<0.7.0,>=0.6.9->fasthtml-nb-ext==0.1.0a0) (8.1.7)\n",
      "Requirement already satisfied: h11>=0.8 in ./cookbook-env/lib/python3.10/site-packages (from uvicorn[standard]>=0.30->python-fasthtml<0.7.0,>=0.6.9->fasthtml-nb-ext==0.1.0a0) (0.14.0)\n",
      "Requirement already satisfied: typing-extensions>=4.0 in ./cookbook-env/lib/python3.10/site-packages (from uvicorn[standard]>=0.30->python-fasthtml<0.7.0,>=0.6.9->fasthtml-nb-ext==0.1.0a0) (4.12.2)\n",
      "Requirement already satisfied: pyyaml>=5.1 in ./cookbook-env/lib/python3.10/site-packages (from uvicorn[standard]>=0.30->python-fasthtml<0.7.0,>=0.6.9->fasthtml-nb-ext==0.1.0a0) (6.0.2)\n",
      "Requirement already satisfied: uvloop!=0.15.0,!=0.15.1,>=0.14.0 in ./cookbook-env/lib/python3.10/site-packages (from uvicorn[standard]>=0.30->python-fasthtml<0.7.0,>=0.6.9->fasthtml-nb-ext==0.1.0a0) (0.21.0)\n",
      "Requirement already satisfied: httptools>=0.5.0 in ./cookbook-env/lib/python3.10/site-packages (from uvicorn[standard]>=0.30->python-fasthtml<0.7.0,>=0.6.9->fasthtml-nb-ext==0.1.0a0) (0.6.4)\n",
      "Requirement already satisfied: python-dotenv>=0.13 in ./cookbook-env/lib/python3.10/site-packages (from uvicorn[standard]>=0.30->python-fasthtml<0.7.0,>=0.6.9->fasthtml-nb-ext==0.1.0a0) (1.0.1)\n",
      "Requirement already satisfied: watchfiles>=0.13 in ./cookbook-env/lib/python3.10/site-packages (from uvicorn[standard]>=0.30->python-fasthtml<0.7.0,>=0.6.9->fasthtml-nb-ext==0.1.0a0) (0.24.0)\n",
      "Requirement already satisfied: websockets>=10.4 in ./cookbook-env/lib/python3.10/site-packages (from uvicorn[standard]>=0.30->python-fasthtml<0.7.0,>=0.6.9->fasthtml-nb-ext==0.1.0a0) (13.1)\n",
      "Requirement already satisfied: soupsieve>1.2 in ./cookbook-env/lib/python3.10/site-packages (from beautifulsoup4->python-fasthtml<0.7.0,>=0.6.9->fasthtml-nb-ext==0.1.0a0) (2.6)\n",
      "Requirement already satisfied: httpcore==1.* in ./cookbook-env/lib/python3.10/site-packages (from httpx->python-fasthtml<0.7.0,>=0.6.9->fasthtml-nb-ext==0.1.0a0) (1.0.6)\n",
      "Requirement already satisfied: idna in ./cookbook-env/lib/python3.10/site-packages (from httpx->python-fasthtml<0.7.0,>=0.6.9->fasthtml-nb-ext==0.1.0a0) (3.10)\n",
      "Requirement already satisfied: sniffio in ./cookbook-env/lib/python3.10/site-packages (from httpx->python-fasthtml<0.7.0,>=0.6.9->fasthtml-nb-ext==0.1.0a0) (1.3.1)\n",
      "Requirement already satisfied: certifi in ./cookbook-env/lib/python3.10/site-packages (from httpx->python-fasthtml<0.7.0,>=0.6.9->fasthtml-nb-ext==0.1.0a0) (2024.8.30)\n",
      "Requirement already satisfied: six>=1.5 in ./cookbook-env/lib/python3.10/site-packages (from python-dateutil->python-fasthtml<0.7.0,>=0.6.9->fasthtml-nb-ext==0.1.0a0) (1.16.0)\n",
      "Requirement already satisfied: exceptiongroup>=1.0.2 in ./cookbook-env/lib/python3.10/site-packages (from anyio<5,>=3.4.0->starlette>0.33->python-fasthtml<0.7.0,>=0.6.9->fasthtml-nb-ext==0.1.0a0) (1.2.2)\n",
      "\n",
      "\u001b[1m[\u001b[0m\u001b[34;49mnotice\u001b[0m\u001b[1;39;49m]\u001b[0m\u001b[39;49m A new release of pip available: \u001b[0m\u001b[31;49m22.3.1\u001b[0m\u001b[39;49m -> \u001b[0m\u001b[32;49m24.3.1\u001b[0m\n",
      "\u001b[1m[\u001b[0m\u001b[34;49mnotice\u001b[0m\u001b[1;39;49m]\u001b[0m\u001b[39;49m To update, run: \u001b[0m\u001b[32;49mpip install --upgrade pip\u001b[0m\n"
     ]
    }
   ],
   "source": [
    "! pip install git+https://github.com/callmephilip/fasthtml-nb-ext.git"
   ]
  },
  {
   "cell_type": "code",
   "execution_count": 3,
   "id": "8e323374-59d9-44c5-ae22-6ef38279828b",
   "metadata": {
    "id": "8e323374-59d9-44c5-ae22-6ef38279828b"
   },
   "outputs": [],
   "source": [
    "# Setup - you can largely ignore this unless you wan to tweak how the cookbook works\n",
    "\n",
    "import traceback\n",
    "from urllib.request import urlopen\n",
    "from fasthtml.common import *\n",
    "from fasthtml.jupyter import *\n",
    "from fasthtml_nb_ext import Playground\n",
    "\n",
    "# UI\n",
    "def prettify(f):\n",
    "    def _f(*args, **kw): return f(*args, **(kw | { \"cls\": \"block \" + kw.get(\"cls\",\"\") }))\n",
    "    return _f\n",
    "\n",
    "@prettify\n",
    "def Panel(*content, **kw): return Div(*content, **kw)\n",
    "\n",
    "@prettify\n",
    "def Textbox(*content, **kw): return Input(*content, **kw)\n",
    "\n",
    "@prettify\n",
    "def Password(*content, **kw): return Input(type=\"password\", *content, **kw)\n",
    "\n",
    "@prettify\n",
    "def MultilineTextbox(*content, **kw): return Textarea(*content, **kw)\n",
    "\n",
    "@prettify\n",
    "def ActionButton(*content, **kw): return Button(*content, **kw)\n",
    "\n",
    "def ActionCheckbox(**kw): return Div(cls=\"block inline\")(CheckboxX(**kw))\n",
    "\n",
    "def AddressBar(*content, **kw): return Textbox(*content, readonly=True, **kw)\n",
    "\n",
    "on_response_error = \"\"\"document.querySelector(\"#errors\").innerHTML = event.detail.xhr.responseText; document.querySelector(\".error-box\").classList.add(\"show\");\"\"\"\n",
    "\n",
    "def PlaygroundUI(*content, path:str): return ErrorBox(), Panel(AddressBar(value=f\"🌎 http://localhost:8000{path}\", cls=\"w-100\"), Hr(), *content, HtmxOn(\"responseError\", on_response_error), cls=\"h-fullish\")\n",
    "def ErrorBox():\n",
    "    return Panel(cls=\"error-box\")(\n",
    "        Div(cls=\"flex flex-row\")(\n",
    "            Div(P(\"Oh 🦌!\")), \n",
    "            Div(cls=\"flex-grow-1 text-align-right\")(\n",
    "                ActionButton(cls=\"display-inline\", onclick=\"document.querySelector('.error-box').classList.remove('show')\")(\"x\")\n",
    "            )\n",
    "        ),\n",
    "        Hr(),\n",
    "        P(id=\"errors\")\n",
    "    )\n",
    "\n",
    "\n",
    "# scripts\n",
    "htmx,fasthtml_js = \"https://unpkg.com/htmx.org@2.0.2\", \"https://cdn.jsdelivr.net/gh/answerdotai/fasthtml-js@1.0.4/fasthtml.js\"\n",
    "# styles + fonts\n",
    "styles,blk_css,font_css = \"/styles.css\",\"https://unpkg.com/blocks.css/dist/blocks.min.css\",\"https://fonts.googleapis.com/css2?family=IBM+Plex+Mono:wght@500;700&amp;display=swap\"\n",
    "inline_styles = [Style(urlopen(\"https://raw.githubusercontent.com/callmephilip/htmx-cookbook/refs/heads/main/styles.css\").read().decode('utf-8'))]\n",
    "hdrs = [Script(src=s) for s in [htmx, fasthtml_js]] + [Link(href=style, rel=\"stylesheet\") for style in [blk_css,styles,font_css]] + inline_styles\n",
    "\n",
    "def server_error(request: Request, exc: HTTPException): return HTMLResponse(content=''.join(traceback.format_exception(exc)), status_code=500)\n",
    "\n",
    "Playground.config(default_hdrs=False, hdrs=hdrs, exception_handlers={ 500: server_error, Exception: server_error })"
   ]
  },
  {
   "cell_type": "code",
   "execution_count": 4,
   "id": "T0Vva0S7h6hz",
   "metadata": {
    "colab": {
     "base_uri": "https://localhost:8080/",
     "height": 297
    },
    "id": "T0Vva0S7h6hz",
    "outputId": "c53ae701-7263-41ce-cbb2-50346a5f0bec"
   },
   "outputs": [
    {
     "data": {
      "text/html": [
       "<iframe src=http://localhost:8000/ style=\"width: 100%; height: auto; border: none;\" onload=\"{\n",
       "        let frame = this;\n",
       "        window.addEventListener('message', function(e) {\n",
       "            if (e.data.height) frame.style.height = (e.data.height+1) + 'px';\n",
       "        }, false);\n",
       "    }\" allow=\"accelerometer; autoplay; camera; clipboard-read; clipboard-write; display-capture; encrypted-media; fullscreen; gamepad; geolocation; gyroscope; hid; identity-credentials-get; idle-detection; magnetometer; microphone; midi; payment; picture-in-picture; publickey-credentials-get; screen-wake-lock; serial; usb; web-share; xr-spatial-tracking\"></iframe> "
      ],
      "text/plain": [
       "<IPython.core.display.HTML object>"
      ]
     },
     "metadata": {},
     "output_type": "display_data"
    }
   ],
   "source": [
    "with Playground(path=\"/\") as playground:\n",
    "  @playground.rt(path=\"/\")\n",
    "  def get():\n",
    "      return PlaygroundUI(\n",
    "          H1(\"HTMX cookbook\"),\n",
    "          P(\"This is very much WIP. Please leave your comments/requests on Github\"),\n",
    "          Div(\"Let's get started 👇\", cls=\"wrapper animate-bounce block\"),\n",
    "          path=\"/\"\n",
    "      )\n"
   ]
  },
  {
   "cell_type": "markdown",
   "id": "588aa3ac-edc3-43f9-8232-9cd11c5e32ca",
   "metadata": {
    "id": "588aa3ac-edc3-43f9-8232-9cd11c5e32ca"
   },
   "source": [
    "# Basic action\n",
    "\n",
    "Grab some stuff from a URL on click"
   ]
  },
  {
   "cell_type": "code",
   "execution_count": 5,
   "id": "58d910fd-89da-4b06-b25d-a631c9bbbc6d",
   "metadata": {
    "colab": {
     "base_uri": "https://localhost:8080/",
     "height": 194
    },
    "id": "58d910fd-89da-4b06-b25d-a631c9bbbc6d",
    "outputId": "185a56fe-6ef1-4f0d-92c9-3b76e315319a"
   },
   "outputs": [
    {
     "data": {
      "text/html": [
       "<iframe src=http://localhost:8000/get-on-click style=\"width: 100%; height: auto; border: none;\" onload=\"{\n",
       "        let frame = this;\n",
       "        window.addEventListener('message', function(e) {\n",
       "            if (e.data.height) frame.style.height = (e.data.height+1) + 'px';\n",
       "        }, false);\n",
       "    }\" allow=\"accelerometer; autoplay; camera; clipboard-read; clipboard-write; display-capture; encrypted-media; fullscreen; gamepad; geolocation; gyroscope; hid; identity-credentials-get; idle-detection; magnetometer; microphone; midi; payment; picture-in-picture; publickey-credentials-get; screen-wake-lock; serial; usb; web-share; xr-spatial-tracking\"></iframe> "
      ],
      "text/plain": [
       "<IPython.core.display.HTML object>"
      ]
     },
     "metadata": {},
     "output_type": "display_data"
    }
   ],
   "source": [
    "with Playground(path=\"/get-on-click\") as playground:\n",
    "  @playground.rt(\"/data\")\n",
    "  def get(): return Span(\"😱 i am trapped inside the button now!\")\n",
    "  @playground.rt(path=\"/get-on-click\")\n",
    "  def get(): return PlaygroundUI(ActionButton(\"Get some data\", hx_get=\"/data\"), path=\"/get-on-click\")\n"
   ]
  },
  {
   "cell_type": "markdown",
   "id": "c7624468-b7af-4888-b49b-9ddee5030459",
   "metadata": {
    "id": "c7624468-b7af-4888-b49b-9ddee5030459"
   },
   "source": [
    "# Custom trigger attribute"
   ]
  },
  {
   "cell_type": "code",
   "execution_count": 6,
   "id": "094bc47a-efa2-4472-a258-eafa2eeecc22",
   "metadata": {
    "colab": {
     "base_uri": "https://localhost:8080/",
     "height": 272
    },
    "id": "094bc47a-efa2-4472-a258-eafa2eeecc22",
    "outputId": "45b2d9c1-7167-43b2-c815-a66dbe27350e"
   },
   "outputs": [
    {
     "data": {
      "text/html": [
       "<iframe src=http://localhost:8000/html2ft style=\"width: 100%; height: auto; border: none;\" onload=\"{\n",
       "        let frame = this;\n",
       "        window.addEventListener('message', function(e) {\n",
       "            if (e.data.height) frame.style.height = (e.data.height+1) + 'px';\n",
       "        }, false);\n",
       "    }\" allow=\"accelerometer; autoplay; camera; clipboard-read; clipboard-write; display-capture; encrypted-media; fullscreen; gamepad; geolocation; gyroscope; hid; identity-credentials-get; idle-detection; magnetometer; microphone; midi; payment; picture-in-picture; publickey-credentials-get; screen-wake-lock; serial; usb; web-share; xr-spatial-tracking\"></iframe> "
      ],
      "text/plain": [
       "<IPython.core.display.HTML object>"
      ]
     },
     "metadata": {},
     "output_type": "display_data"
    }
   ],
   "source": [
    "from time import sleep\n",
    "\n",
    "\n",
    "with Playground(path=\"/html2ft\") as playground:\n",
    "  @dataclass\n",
    "  class Html2FT: html: str\n",
    "\n",
    "  @playground.rt(\"/html2ft/convert\")\n",
    "  def post(data: Html2FT):\n",
    "      sleep(5)\n",
    "      return html2ft(data.html)\n",
    "\n",
    "  on_paste = \"\"\"\n",
    "  document.querySelector(\"#txt-html\").addEventListener(\"paste\", function (event) { setTimeout(() => {event.target.blur();}, 500) });\n",
    "  \"\"\"\n",
    "\n",
    "  @playground.rt(\"/html2ft\")\n",
    "  def get():\n",
    "    return PlaygroundUI(\n",
    "        Div(cls=\"flex flex-row\")(\n",
    "            Div(cls=\"flex-grow-1 h-300px\")(\n",
    "                P(\"Convert HTML to FT\"),\n",
    "                MultilineTextbox(name=\"html\", placeholder=\"paste html here\", cls=\"w-100 h-80\", id=\"txt-html\", hx_post=\"/html2ft/convert\", hx_trigger=\"blur\", hx_target=\"#result\", hx_indicator=\"#processing-indicator\"),\n",
    "                Strong(id=\"processing-indicator\", cls=\"htmx-indicator\")(\"Processing...\")\n",
    "            ),\n",
    "            Div(cls=\"flex-grow-2 h-300px text-align-left\", style=\"padding-left: 5rem;\")(\n",
    "                Code(id=\"result\", cls=\"white-space-pre-wrap text-align-left\")\n",
    "            )\n",
    "        ),\n",
    "        Script(code=on_paste),\n",
    "        path=\"/html2ft\"\n",
    "    )"
   ]
  },
  {
   "cell_type": "markdown",
   "id": "d845ca47-dc6b-4dff-9e46-639e02891b39",
   "metadata": {
    "id": "d845ca47-dc6b-4dff-9e46-639e02891b39"
   },
   "source": [
    "# You can also post some data over"
   ]
  },
  {
   "cell_type": "code",
   "execution_count": 7,
   "id": "3e0cafc9-1eff-4489-9dad-b809d559437e",
   "metadata": {
    "colab": {
     "base_uri": "https://localhost:8080/",
     "height": 538
    },
    "id": "3e0cafc9-1eff-4489-9dad-b809d559437e",
    "outputId": "ce38b9b0-c00e-41dd-de34-cb164c3a1dd8"
   },
   "outputs": [
    {
     "data": {
      "text/html": [
       "<iframe src=http://localhost:8000/login style=\"width: 100%; height: auto; border: none;\" onload=\"{\n",
       "        let frame = this;\n",
       "        window.addEventListener('message', function(e) {\n",
       "            if (e.data.height) frame.style.height = (e.data.height+1) + 'px';\n",
       "        }, false);\n",
       "    }\" allow=\"accelerometer; autoplay; camera; clipboard-read; clipboard-write; display-capture; encrypted-media; fullscreen; gamepad; geolocation; gyroscope; hid; identity-credentials-get; idle-detection; magnetometer; microphone; midi; payment; picture-in-picture; publickey-credentials-get; screen-wake-lock; serial; usb; web-share; xr-spatial-tracking\"></iframe> "
      ],
      "text/plain": [
       "<IPython.core.display.HTML object>"
      ]
     },
     "metadata": {},
     "output_type": "display_data"
    }
   ],
   "source": [
    "from password_strength import PasswordStats\n",
    "\n",
    "with Playground(path=\"/login\") as playground:\n",
    "  @dataclass\n",
    "  class LoginData: email: str; pw:str\n",
    "\n",
    "  @playground.rt(\"/login\")\n",
    "  def post(ld: LoginData): return Span(f\"You are logged in!\")\n",
    "\n",
    "  @playground.rt(\"/login/validation\")\n",
    "  def post(ld: LoginData):\n",
    "    strength = int(PasswordStats(ld.pw).strength() * 10) if ld.pw else 0\n",
    "    if strength > 7:\n",
    "        c = \"green\"\n",
    "    elif strength > 5:\n",
    "        c = \"orange\"\n",
    "    else: c = \"red\"\n",
    "\n",
    "    return Div(id=\"email-validator\", hx_swap_oob=\"true\")(\"✅\" if \"@\" in ld.email else \"🔴\"), strength > 0 and Div(id=\"password-validator\", hx_swap_oob=\"true\")(\n",
    "        Div(cls=\"flex flex-row\")(\n",
    "            *[Div(cls=f\"text-{c}\")(\"+\") if i + 1 <= strength else Div(cls=\"tex-gray\")(\"_\") for i in range(9)]\n",
    "        )\n",
    "    )\n",
    "\n",
    "  @playground.rt(\"/login\")\n",
    "  def get():\n",
    "    return PlaygroundUI(\n",
    "        Form(hx_post=\"/login\")(\n",
    "            Div(cls=\"flex flex-row\")(\n",
    "                Textbox(name=\"email\", placeholder=\"Email\", hx_post=\"/login/validation\", hx_trigger=\"keyup\"),\n",
    "                Div(id=\"email-validator\")\n",
    "            ),\n",
    "            Div(cls=\"flex flex-row\")(\n",
    "                Password(name=\"pw\", placeholder=\"Password\", hx_post=\"/login/validation\", hx_trigger=\"keyup\"),\n",
    "                Div(id=\"password-validator\")\n",
    "            ),\n",
    "            ActionButton(\"Go!\"),\n",
    "        ),\n",
    "        path=\"/login\"\n",
    "    )\n"
   ]
  },
  {
   "cell_type": "markdown",
   "id": "a4bec2d3",
   "metadata": {},
   "source": [
    "# Adding things to a list"
   ]
  },
  {
   "cell_type": "code",
   "execution_count": 21,
   "id": "f2ef6a59",
   "metadata": {},
   "outputs": [
    {
     "data": {
      "text/html": [
       "<iframe src=http://localhost:8000/todos style=\"width: 100%; height: auto; border: none;\" onload=\"{\n",
       "        let frame = this;\n",
       "        window.addEventListener('message', function(e) {\n",
       "            if (e.data.height) frame.style.height = (e.data.height+1) + 'px';\n",
       "        }, false);\n",
       "    }\" allow=\"accelerometer; autoplay; camera; clipboard-read; clipboard-write; display-capture; encrypted-media; fullscreen; gamepad; geolocation; gyroscope; hid; identity-credentials-get; idle-detection; magnetometer; microphone; midi; payment; picture-in-picture; publickey-credentials-get; screen-wake-lock; serial; usb; web-share; xr-spatial-tracking\"></iframe> "
      ],
      "text/plain": [
       "<IPython.core.display.HTML object>"
      ]
     },
     "metadata": {},
     "output_type": "display_data"
    }
   ],
   "source": [
    "\n",
    "with Playground(path=\"/todos\") as playground:\n",
    "  db = database(\":memory:\")\n",
    "  \n",
    "  class Todo: id: int; title: str; done: bool = False\n",
    "  todos = db.create(Todo, pk=\"id\")\n",
    "  todos.insert(Todo(title=\"call mom\", done=True))\n",
    "  todos.insert(Todo(title=\"learn FastHTML\"))\n",
    "\n",
    "  @patch\n",
    "  def __ft__(self: Todo):\n",
    "    s = \"text-decoration: line-through;\" if self.done else \"\"\n",
    "    return Div(style=s)(\n",
    "      ActionCheckbox(checked=self.done, style=\"width: 20px; height: 20px;\"),\n",
    "      self.title\n",
    "    )\n",
    "\n",
    "  @playground.rt(\"/todos/add\")\n",
    "  def post(title: str):\n",
    "    return todos.insert(Todo(title=title))\n",
    "\n",
    "  @playground.rt(\"/todos\")\n",
    "  def get():\n",
    "    todos_ui = H1(style=\"text-align:left; font-size: 75px;\")(\"Things to do\"), Hr(), Ul(id=\"todos\", style=\"text-align: left; list-style: none; padding-left:0; font-size: 50px;\")(\n",
    "        *[Li(todo) for todo in todos()]\n",
    "    ), Form(\n",
    "      hx_post=\"/todos/add\",\n",
    "      hx_target=\"#todos\",\n",
    "      hx_swap=\"beforeend\"\n",
    "    )(\n",
    "        Textbox(name=\"title\", placeholder=\"New todo\", style=\"font-size: 50px;\"),\n",
    "        ActionButton(\"Add\", style=\"font-size: 50px;\")\n",
    "    ), HtmxOn(\"afterRequest\", \"document.querySelector('form').reset()\")\n",
    "    return PlaygroundUI(todos_ui, path=\"/todos\")\n"
   ]
  },
  {
   "cell_type": "code",
   "execution_count": 28,
   "id": "960f54e3",
   "metadata": {},
   "outputs": [
    {
     "data": {
      "text/html": [
       "<iframe src=http://localhost:8000/fast-tags style=\"width: 100%; height: auto; border: none;\" onload=\"{\n",
       "        let frame = this;\n",
       "        window.addEventListener('message', function(e) {\n",
       "            if (e.data.height) frame.style.height = (e.data.height+1) + 'px';\n",
       "        }, false);\n",
       "    }\" allow=\"accelerometer; autoplay; camera; clipboard-read; clipboard-write; display-capture; encrypted-media; fullscreen; gamepad; geolocation; gyroscope; hid; identity-credentials-get; idle-detection; magnetometer; microphone; midi; payment; picture-in-picture; publickey-credentials-get; screen-wake-lock; serial; usb; web-share; xr-spatial-tracking\"></iframe> "
      ],
      "text/plain": [
       "<IPython.core.display.HTML object>"
      ]
     },
     "metadata": {},
     "output_type": "display_data"
    }
   ],
   "source": [
    "\n",
    "with Playground(path=\"/fast-tags\") as playground:\n",
    "  @playground.rt(\"/fast-tags\")\n",
    "  def get():\n",
    "    fts = Style(\"\"\"\n",
    "      body { padding-top: 50px; }          \n",
    "      .fade-in-1 { opacity: 0; animation: fadeIn 1s forwards; animation-delay: 1s; }\n",
    "      .fade-in-2 { opacity: 0; animation: fadeIn 1s forwards; animation-delay: 2s; }\n",
    "      .fade-in-3 { opacity: 0; animation: fadeIn 1s forwards; animation-delay: 3s; }\n",
    "      .fade-in-4 { opacity: 0; animation: fadeIn 1s forwards; animation-delay: 4s; }\n",
    "      .fade-in-5 { opacity: 0; animation: fadeIn 1s forwards; animation-delay: 5s; }\n",
    "      .fade-in-6 { opacity: 0; animation: fadeIn 1s forwards; animation-delay: 6s; }\n",
    "      @keyframes fadeIn { to { opacity: 1; } }\n",
    "\n",
    "    \"\"\"),  H1(style=\"text-align:left; font-size: 75px;\")(\"Understanding FastTags\"), Hr(style=\"margin-bottom: 22rem;\"), Ul(\n",
    "      style=\"list-style: none; padding-left:0; font-size: 50px;\"\n",
    "    )(\n",
    "      Li(_class=\"fade-in-1\")(Code('Div(\"Hello world\")')),\n",
    "      Li(_class=\"fade-in-2\")(\"⬇️\"),\n",
    "      Li(_class=\"fade-in-3\", style=\"transform: rotateX(180deg);\")(\"🎩\"),\n",
    "      Li(_class=\"fade-in-4\")(\"✨\"), \n",
    "      Li(_class=\"fade-in-5\")(\"⬇️\"),\n",
    "      Li(_class=\"fade-in-6\")(\"<div>Hello world</div>\")\n",
    "    )\n",
    "    return PlaygroundUI(fts, path=\"/fast-tags\")\n"
   ]
  },
  {
   "cell_type": "code",
   "execution_count": null,
   "id": "31a739ab",
   "metadata": {},
   "outputs": [],
   "source": []
  }
 ],
 "metadata": {
  "colab": {
   "provenance": []
  },
  "kernelspec": {
   "display_name": "cookbook-env",
   "language": "python",
   "name": "python3"
  },
  "language_info": {
   "codemirror_mode": {
    "name": "ipython",
    "version": 3
   },
   "file_extension": ".py",
   "mimetype": "text/x-python",
   "name": "python",
   "nbconvert_exporter": "python",
   "pygments_lexer": "ipython3",
   "version": "3.10.9"
  }
 },
 "nbformat": 4,
 "nbformat_minor": 5
}
