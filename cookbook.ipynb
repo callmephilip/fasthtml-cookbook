{
  "cells": [
    {
      "cell_type": "markdown",
      "id": "e6583059-e483-4c79-81ce-c05e1caf339c",
      "metadata": {
        "id": "e6583059-e483-4c79-81ce-c05e1caf339c"
      },
      "source": [
        "# Welcome to HTMX cookbook\n",
        "\n",
        "> Please note, this very much WIP. If you have certain recipes that you want to share or want to see, head to [Github](https://github.com/callmephilip/htmx-cookbook)\n",
        "\n",
        "This cookbook is powered by [FastHTML](https://fastht.ml/). UI is based on [block.css](https://github.com/thesephist/blocks.css)\n",
        "\n",
        "## Getting started\n",
        "\n",
        "```\n",
        "python -m venv .env\n",
        "source .env/bin/activate\n",
        "pip install notebook\n",
        "jupyter notebook\n",
        "```\n",
        "\n",
        "The easiest way to run this is to smash `Run -> Run All Cells`. To iterate on a specific recipe, update code in the corresponding cell and rerun it\n",
        "\n",
        "![Screenshot](https://github.com/callmephilip/htmx-cookbook/blob/main/cookbook.gif?raw=1)"
      ]
    },
    {
      "cell_type": "code",
      "execution_count": 1,
      "id": "a9ffec27-55da-475a-931f-a7585b802f9a",
      "metadata": {
        "id": "a9ffec27-55da-475a-931f-a7585b802f9a"
      },
      "outputs": [
        {
          "name": "stdout",
          "output_type": "stream",
          "text": [
            "Collecting git+https://github.com/callmephilip/fasthtml-nb-ext.git\n",
            "  Cloning https://github.com/callmephilip/fasthtml-nb-ext.git to /private/var/folders/6_/kmpf38495hzcv9549vccky700000gn/T/pip-req-build-ykeuko02\n",
            "  Running command git clone --filter=blob:none --quiet https://github.com/callmephilip/fasthtml-nb-ext.git /private/var/folders/6_/kmpf38495hzcv9549vccky700000gn/T/pip-req-build-ykeuko02\n",
            "  Resolved https://github.com/callmephilip/fasthtml-nb-ext.git to commit c1a5d7c4dc93cec9a08a41edb3414229d5724785\n",
            "  Installing build dependencies ... \u001b[?25ldone\n",
            "\u001b[?25h  Getting requirements to build wheel ... \u001b[?25ldone\n",
            "\u001b[?25h  Preparing metadata (pyproject.toml) ... \u001b[?25ldone\n",
            "\u001b[?25hRequirement already satisfied: python-fasthtml in ./.env/lib/python3.10/site-packages (0.6.9)\n",
            "Requirement already satisfied: password-strength in ./.env/lib/python3.10/site-packages (0.0.3.post2)\n",
            "Requirement already satisfied: itsdangerous in ./.env/lib/python3.10/site-packages (from python-fasthtml) (2.2.0)\n",
            "Requirement already satisfied: fastlite>=0.0.9 in ./.env/lib/python3.10/site-packages (from python-fasthtml) (0.0.11)\n",
            "Requirement already satisfied: fastcore>=1.7.8 in ./.env/lib/python3.10/site-packages (from python-fasthtml) (1.7.10)\n",
            "Requirement already satisfied: httpx in ./.env/lib/python3.10/site-packages (from python-fasthtml) (0.27.2)\n",
            "Requirement already satisfied: python-multipart in ./.env/lib/python3.10/site-packages (from python-fasthtml) (0.0.11)\n",
            "Requirement already satisfied: oauthlib in ./.env/lib/python3.10/site-packages (from python-fasthtml) (3.2.2)\n",
            "Requirement already satisfied: python-dateutil in ./.env/lib/python3.10/site-packages (from python-fasthtml) (2.9.0.post0)\n",
            "Requirement already satisfied: uvicorn[standard]>=0.30 in ./.env/lib/python3.10/site-packages (from python-fasthtml) (0.31.0)\n",
            "Requirement already satisfied: beautifulsoup4 in ./.env/lib/python3.10/site-packages (from python-fasthtml) (4.12.3)\n",
            "Requirement already satisfied: starlette>0.33 in ./.env/lib/python3.10/site-packages (from python-fasthtml) (0.39.1)\n",
            "Requirement already satisfied: six in ./.env/lib/python3.10/site-packages (from password-strength) (1.16.0)\n",
            "Requirement already satisfied: packaging in ./.env/lib/python3.10/site-packages (from fastcore>=1.7.8->python-fasthtml) (24.1)\n",
            "Requirement already satisfied: sqlite-minutils>=3.37 in ./.env/lib/python3.10/site-packages (from fastlite>=0.0.9->python-fasthtml) (3.37.0.post3)\n",
            "Requirement already satisfied: anyio<5,>=3.4.0 in ./.env/lib/python3.10/site-packages (from starlette>0.33->python-fasthtml) (4.6.0)\n",
            "Requirement already satisfied: h11>=0.8 in ./.env/lib/python3.10/site-packages (from uvicorn[standard]>=0.30->python-fasthtml) (0.14.0)\n",
            "Requirement already satisfied: typing-extensions>=4.0 in ./.env/lib/python3.10/site-packages (from uvicorn[standard]>=0.30->python-fasthtml) (4.12.2)\n",
            "Requirement already satisfied: click>=7.0 in ./.env/lib/python3.10/site-packages (from uvicorn[standard]>=0.30->python-fasthtml) (8.1.7)\n",
            "Requirement already satisfied: watchfiles>=0.13 in ./.env/lib/python3.10/site-packages (from uvicorn[standard]>=0.30->python-fasthtml) (0.24.0)\n",
            "Requirement already satisfied: websockets>=10.4 in ./.env/lib/python3.10/site-packages (from uvicorn[standard]>=0.30->python-fasthtml) (13.1)\n",
            "Requirement already satisfied: python-dotenv>=0.13 in ./.env/lib/python3.10/site-packages (from uvicorn[standard]>=0.30->python-fasthtml) (1.0.1)\n",
            "Requirement already satisfied: uvloop!=0.15.0,!=0.15.1,>=0.14.0 in ./.env/lib/python3.10/site-packages (from uvicorn[standard]>=0.30->python-fasthtml) (0.20.0)\n",
            "Requirement already satisfied: httptools>=0.5.0 in ./.env/lib/python3.10/site-packages (from uvicorn[standard]>=0.30->python-fasthtml) (0.6.1)\n",
            "Requirement already satisfied: pyyaml>=5.1 in ./.env/lib/python3.10/site-packages (from uvicorn[standard]>=0.30->python-fasthtml) (6.0.2)\n",
            "Requirement already satisfied: soupsieve>1.2 in ./.env/lib/python3.10/site-packages (from beautifulsoup4->python-fasthtml) (2.6)\n",
            "Requirement already satisfied: idna in ./.env/lib/python3.10/site-packages (from httpx->python-fasthtml) (3.10)\n",
            "Requirement already satisfied: sniffio in ./.env/lib/python3.10/site-packages (from httpx->python-fasthtml) (1.3.1)\n",
            "Requirement already satisfied: httpcore==1.* in ./.env/lib/python3.10/site-packages (from httpx->python-fasthtml) (1.0.5)\n",
            "Requirement already satisfied: certifi in ./.env/lib/python3.10/site-packages (from httpx->python-fasthtml) (2024.8.30)\n",
            "Requirement already satisfied: exceptiongroup>=1.0.2 in ./.env/lib/python3.10/site-packages (from anyio<5,>=3.4.0->starlette>0.33->python-fasthtml) (1.2.2)\n",
            "\n",
            "\u001b[1m[\u001b[0m\u001b[34;49mnotice\u001b[0m\u001b[1;39;49m]\u001b[0m\u001b[39;49m A new release of pip available: \u001b[0m\u001b[31;49m22.3.1\u001b[0m\u001b[39;49m -> \u001b[0m\u001b[32;49m24.2\u001b[0m\n",
            "\u001b[1m[\u001b[0m\u001b[34;49mnotice\u001b[0m\u001b[1;39;49m]\u001b[0m\u001b[39;49m To update, run: \u001b[0m\u001b[32;49mpip install --upgrade pip\u001b[0m\n"
          ]
        }
      ],
      "source": [
        "! pip install --no-cache-dir python-fasthtml git+https://github.com/callmephilip/fasthtml-nb-ext.git password-strength"
      ]
    },
    {
      "cell_type": "code",
      "execution_count": 50,
      "id": "8e323374-59d9-44c5-ae22-6ef38279828b",
      "metadata": {
        "id": "8e323374-59d9-44c5-ae22-6ef38279828b"
      },
      "outputs": [],
      "source": [
        "# Setup - you can largely ignore this unless you wan to tweak how the cookbook works\n",
        "\n",
        "import traceback\n",
        "from urllib.request import urlopen\n",
        "from fasthtml.common import *\n",
        "from fasthtml.jupyter import *\n",
        "from fasthtml_nb_ext import Playground\n",
        "\n",
        "# UI\n",
        "def prettify(f):\n",
        "    def _f(*args, **kw): return f(*args, **(kw | { \"cls\": \"block \" + kw.get(\"cls\",\"\") }))\n",
        "    return _f\n",
        "\n",
        "@prettify\n",
        "def Panel(*content, **kw): return Div(*content, **kw)\n",
        "\n",
        "@prettify\n",
        "def Textbox(*content, **kw): return Input(*content, **kw)\n",
        "\n",
        "@prettify\n",
        "def Password(*content, **kw): return Input(type=\"password\", *content, **kw)\n",
        "\n",
        "@prettify\n",
        "def MultilineTextbox(*content, **kw): return Textarea(*content, **kw)\n",
        "\n",
        "@prettify\n",
        "def ActionButton(*content, **kw): return Button(*content, **kw)\n",
        "\n",
        "def ActionCheckbox(**kw): return Div(cls=\"block inline\")(CheckboxX(**kw))\n",
        "\n",
        "def AddressBar(*content, **kw): return Textbox(*content, readonly=True, **kw)\n",
        "\n",
        "on_response_error = \"\"\"document.querySelector(\"#errors\").innerHTML = event.detail.xhr.responseText; document.querySelector(\".error-box\").classList.add(\"show\");\"\"\"\n",
        "\n",
        "def PlaygroundUI(*content, path:str): return ErrorBox(), Panel(AddressBar(value=f\"🌎 http://localhost:8000{path}\", cls=\"w-100\"), Hr(), *content, HtmxOn(\"responseError\", on_response_error), cls=\"h-fullish\")\n",
        "def ErrorBox():\n",
        "    return Panel(cls=\"error-box\")(\n",
        "        Div(cls=\"flex flex-row\")(\n",
        "            Div(P(\"Oh 🦌!\")), \n",
        "            Div(cls=\"flex-grow-1 text-align-right\")(\n",
        "                ActionButton(cls=\"display-inline\", onclick=\"document.querySelector('.error-box').classList.remove('show')\")(\"x\")\n",
        "            )\n",
        "        ),\n",
        "        Hr(),\n",
        "        P(id=\"errors\")\n",
        "    )\n",
        "\n",
        "\n",
        "# scripts\n",
        "htmx,fasthtml_js = \"https://unpkg.com/htmx.org@2.0.2\", \"https://cdn.jsdelivr.net/gh/answerdotai/fasthtml-js@1.0.4/fasthtml.js\"\n",
        "# styles + fonts\n",
        "styles,blk_css,font_css = \"/styles.css\",\"https://unpkg.com/blocks.css/dist/blocks.min.css\",\"https://fonts.googleapis.com/css2?family=IBM+Plex+Mono:wght@500;700&amp;display=swap\"\n",
        "inline_styles = [Style(urlopen(\"https://raw.githubusercontent.com/callmephilip/htmx-cookbook/refs/heads/main/styles.css\").read().decode('utf-8'))]\n",
        "hdrs = [Script(src=s) for s in [htmx, fasthtml_js]] + [Link(href=style, rel=\"stylesheet\") for style in [blk_css,styles,font_css]] + inline_styles\n",
        "\n",
        "def server_error(request: Request, exc: HTTPException): return HTMLResponse(content=''.join(traceback.format_exception(exc)), status_code=500)\n",
        "\n",
        "Playground.config(default_hdrs=False, hdrs=hdrs, exception_handlers={ 500: server_error, Exception: server_error })"
      ]
    },
    {
      "cell_type": "code",
      "execution_count": 3,
      "id": "T0Vva0S7h6hz",
      "metadata": {
        "colab": {
          "base_uri": "https://localhost:8080/",
          "height": 297
        },
        "id": "T0Vva0S7h6hz",
        "outputId": "c53ae701-7263-41ce-cbb2-50346a5f0bec"
      },
      "outputs": [
        {
          "data": {
            "text/html": [
              "<iframe src=http://localhost:8000/ style=\"width: 100%; height: auto; border: none;\" onload=\"{\n",
              "        let frame = this;\n",
              "        window.addEventListener('message', function(e) {\n",
              "            if (e.data.height) frame.style.height = (e.data.height+1) + 'px';\n",
              "        }, false);\n",
              "    }\" allow=\"accelerometer; autoplay; camera; clipboard-read; clipboard-write; display-capture; encrypted-media; fullscreen; gamepad; geolocation; gyroscope; hid; identity-credentials-get; idle-detection; magnetometer; microphone; midi; payment; picture-in-picture; publickey-credentials-get; screen-wake-lock; serial; usb; web-share; xr-spatial-tracking\"></iframe> "
            ],
            "text/plain": [
              "<IPython.core.display.HTML object>"
            ]
          },
          "metadata": {},
          "output_type": "display_data"
        },
        {
          "name": "stderr",
          "output_type": "stream",
          "text": [
            "ERROR:    Exception in ASGI application\n",
            "Traceback (most recent call last):\n",
            "  File \"/Users/philip/projects/fasthtml-htmx-recipes/.env/lib/python3.10/site-packages/uvicorn/protocols/http/httptools_impl.py\", line 401, in run_asgi\n",
            "    result = await app(  # type: ignore[func-returns-value]\n",
            "  File \"/Users/philip/projects/fasthtml-htmx-recipes/.env/lib/python3.10/site-packages/uvicorn/middleware/proxy_headers.py\", line 60, in __call__\n",
            "    return await self.app(scope, receive, send)\n",
            "  File \"/Users/philip/projects/fasthtml-htmx-recipes/.env/lib/python3.10/site-packages/starlette/applications.py\", line 113, in __call__\n",
            "    await self.middleware_stack(scope, receive, send)\n",
            "  File \"/Users/philip/projects/fasthtml-htmx-recipes/.env/lib/python3.10/site-packages/starlette/middleware/errors.py\", line 187, in __call__\n",
            "    raise exc\n",
            "  File \"/Users/philip/projects/fasthtml-htmx-recipes/.env/lib/python3.10/site-packages/starlette/middleware/errors.py\", line 165, in __call__\n",
            "    await self.app(scope, receive, _send)\n",
            "  File \"/Users/philip/projects/fasthtml-htmx-recipes/.env/lib/python3.10/site-packages/starlette/middleware/cors.py\", line 85, in __call__\n",
            "    await self.app(scope, receive, send)\n",
            "  File \"/Users/philip/projects/fasthtml-htmx-recipes/.env/lib/python3.10/site-packages/starlette/middleware/sessions.py\", line 85, in __call__\n",
            "    await self.app(scope, receive, send_wrapper)\n",
            "  File \"/Users/philip/projects/fasthtml-htmx-recipes/.env/lib/python3.10/site-packages/starlette/middleware/exceptions.py\", line 62, in __call__\n",
            "    await wrap_app_handling_exceptions(self.app, conn)(scope, receive, send)\n",
            "  File \"/Users/philip/projects/fasthtml-htmx-recipes/.env/lib/python3.10/site-packages/starlette/_exception_handler.py\", line 62, in wrapped_app\n",
            "    raise exc\n",
            "  File \"/Users/philip/projects/fasthtml-htmx-recipes/.env/lib/python3.10/site-packages/starlette/_exception_handler.py\", line 51, in wrapped_app\n",
            "    await app(scope, receive, sender)\n",
            "  File \"/Users/philip/projects/fasthtml-htmx-recipes/.env/lib/python3.10/site-packages/starlette/routing.py\", line 715, in __call__\n",
            "    await self.middleware_stack(scope, receive, send)\n",
            "  File \"/Users/philip/projects/fasthtml-htmx-recipes/.env/lib/python3.10/site-packages/starlette/routing.py\", line 735, in app\n",
            "    await route.handle(scope, receive, send)\n",
            "  File \"/Users/philip/projects/fasthtml-htmx-recipes/.env/lib/python3.10/site-packages/starlette/routing.py\", line 288, in handle\n",
            "    await self.app(scope, receive, send)\n",
            "  File \"/Users/philip/projects/fasthtml-htmx-recipes/.env/lib/python3.10/site-packages/starlette/routing.py\", line 76, in app\n",
            "    await wrap_app_handling_exceptions(app, request)(scope, receive, send)\n",
            "  File \"/Users/philip/projects/fasthtml-htmx-recipes/.env/lib/python3.10/site-packages/starlette/_exception_handler.py\", line 62, in wrapped_app\n",
            "    raise exc\n",
            "  File \"/Users/philip/projects/fasthtml-htmx-recipes/.env/lib/python3.10/site-packages/starlette/_exception_handler.py\", line 51, in wrapped_app\n",
            "    await app(scope, receive, sender)\n",
            "  File \"/Users/philip/projects/fasthtml-htmx-recipes/.env/lib/python3.10/site-packages/starlette/routing.py\", line 73, in app\n",
            "    response = await f(request)\n",
            "  File \"/Users/philip/projects/fasthtml-htmx-recipes/.env/lib/python3.10/site-packages/fasthtml/core.py\", line 446, in _endp\n",
            "    if not resp: resp = await _wrap_call(self.f, req, self.sig.parameters)\n",
            "  File \"/Users/philip/projects/fasthtml-htmx-recipes/.env/lib/python3.10/site-packages/fasthtml/core.py\", line 427, in _wrap_call\n",
            "    return await _handle(f, wreq)\n",
            "  File \"/Users/philip/projects/fasthtml-htmx-recipes/.env/lib/python3.10/site-packages/fasthtml/core.py\", line 233, in _handle\n",
            "    return (await f(*args, **kwargs)) if is_async_callable(f) else await run_in_threadpool(f, *args, **kwargs)\n",
            "  File \"/Users/philip/projects/fasthtml-htmx-recipes/.env/lib/python3.10/site-packages/starlette/concurrency.py\", line 39, in run_in_threadpool\n",
            "    return await anyio.to_thread.run_sync(func, *args)\n",
            "  File \"/Users/philip/projects/fasthtml-htmx-recipes/.env/lib/python3.10/site-packages/anyio/to_thread.py\", line 56, in run_sync\n",
            "    return await get_async_backend().run_sync_in_worker_thread(\n",
            "  File \"/Users/philip/projects/fasthtml-htmx-recipes/.env/lib/python3.10/site-packages/anyio/_backends/_asyncio.py\", line 2405, in run_sync_in_worker_thread\n",
            "    return await future\n",
            "  File \"/Users/philip/projects/fasthtml-htmx-recipes/.env/lib/python3.10/site-packages/anyio/_backends/_asyncio.py\", line 914, in run\n",
            "    result = context.run(func, *args)\n",
            "  File \"/var/folders/6_/kmpf38495hzcv9549vccky700000gn/T/ipykernel_59235/1030347018.py\", line 7, in get\n",
            "    return PlaygroundUI(Strong(\"hello\"))\n",
            "TypeError: PlaygroundUI() missing 1 required keyword-only argument: 'path'\n"
          ]
        }
      ],
      "source": [
        "with Playground(path=\"/\") as playground:\n",
        "  @playground.rt(path=\"/\")\n",
        "  def get():\n",
        "      return PlaygroundUI(\n",
        "          H1(\"HTMX cookbook\"),\n",
        "          P(\"This is very much WIP. Please leave your comments/requests on Github\"),\n",
        "          Div(\"Let's get started 👇\", cls=\"wrapper animate-bounce block\"),\n",
        "          path=\"/\"\n",
        "      )\n"
      ]
    },
    {
      "cell_type": "markdown",
      "id": "588aa3ac-edc3-43f9-8232-9cd11c5e32ca",
      "metadata": {
        "id": "588aa3ac-edc3-43f9-8232-9cd11c5e32ca"
      },
      "source": [
        "# Basic action\n",
        "\n",
        "Grab some stuff from a URL on click"
      ]
    },
    {
      "cell_type": "code",
      "execution_count": 4,
      "id": "58d910fd-89da-4b06-b25d-a631c9bbbc6d",
      "metadata": {
        "colab": {
          "base_uri": "https://localhost:8080/",
          "height": 194
        },
        "id": "58d910fd-89da-4b06-b25d-a631c9bbbc6d",
        "outputId": "185a56fe-6ef1-4f0d-92c9-3b76e315319a"
      },
      "outputs": [
        {
          "data": {
            "text/html": [
              "<iframe src=http://localhost:8000/get-on-click style=\"width: 100%; height: auto; border: none;\" onload=\"{\n",
              "        let frame = this;\n",
              "        window.addEventListener('message', function(e) {\n",
              "            if (e.data.height) frame.style.height = (e.data.height+1) + 'px';\n",
              "        }, false);\n",
              "    }\" allow=\"accelerometer; autoplay; camera; clipboard-read; clipboard-write; display-capture; encrypted-media; fullscreen; gamepad; geolocation; gyroscope; hid; identity-credentials-get; idle-detection; magnetometer; microphone; midi; payment; picture-in-picture; publickey-credentials-get; screen-wake-lock; serial; usb; web-share; xr-spatial-tracking\"></iframe> "
            ],
            "text/plain": [
              "<IPython.core.display.HTML object>"
            ]
          },
          "metadata": {},
          "output_type": "display_data"
        }
      ],
      "source": [
        "with Playground(path=\"/get-on-click\") as playground:\n",
        "  @playground.rt(\"/data\")\n",
        "  def get(): return Span(\"😱 i am trapped inside the button now!\")\n",
        "  @playground.rt(path=\"/get-on-click\")\n",
        "  def get(): return PlaygroundUI(ActionButton(\"Get some data\", hx_get=\"/data\"), path=\"/get-on-click\")\n"
      ]
    },
    {
      "cell_type": "markdown",
      "id": "c7624468-b7af-4888-b49b-9ddee5030459",
      "metadata": {
        "id": "c7624468-b7af-4888-b49b-9ddee5030459"
      },
      "source": [
        "# Custom trigger attribute"
      ]
    },
    {
      "cell_type": "code",
      "execution_count": 5,
      "id": "094bc47a-efa2-4472-a258-eafa2eeecc22",
      "metadata": {
        "colab": {
          "base_uri": "https://localhost:8080/",
          "height": 272
        },
        "id": "094bc47a-efa2-4472-a258-eafa2eeecc22",
        "outputId": "45b2d9c1-7167-43b2-c815-a66dbe27350e"
      },
      "outputs": [
        {
          "data": {
            "text/html": [
              "<iframe src=http://localhost:8000/html2ft style=\"width: 100%; height: auto; border: none;\" onload=\"{\n",
              "        let frame = this;\n",
              "        window.addEventListener('message', function(e) {\n",
              "            if (e.data.height) frame.style.height = (e.data.height+1) + 'px';\n",
              "        }, false);\n",
              "    }\" allow=\"accelerometer; autoplay; camera; clipboard-read; clipboard-write; display-capture; encrypted-media; fullscreen; gamepad; geolocation; gyroscope; hid; identity-credentials-get; idle-detection; magnetometer; microphone; midi; payment; picture-in-picture; publickey-credentials-get; screen-wake-lock; serial; usb; web-share; xr-spatial-tracking\"></iframe> "
            ],
            "text/plain": [
              "<IPython.core.display.HTML object>"
            ]
          },
          "metadata": {},
          "output_type": "display_data"
        }
      ],
      "source": [
        "from time import sleep\n",
        "\n",
        "\n",
        "with Playground(path=\"/html2ft\") as playground:\n",
        "  @dataclass\n",
        "  class Html2FT: html: str\n",
        "\n",
        "  @playground.rt(\"/html2ft/convert\")\n",
        "  def post(data: Html2FT):\n",
        "      sleep(5)\n",
        "      return html2ft(data.html)\n",
        "\n",
        "  on_paste = \"\"\"\n",
        "  document.querySelector(\"#txt-html\").addEventListener(\"paste\", function (event) { setTimeout(() => {event.target.blur();}, 500) });\n",
        "  \"\"\"\n",
        "\n",
        "  @playground.rt(\"/html2ft\")\n",
        "  def get():\n",
        "    return PlaygroundUI(\n",
        "        Div(cls=\"flex flex-row\")(\n",
        "            Div(cls=\"flex-grow-1 h-300px\")(\n",
        "                P(\"Convert HTML to FT\"),\n",
        "                MultilineTextbox(name=\"html\", placeholder=\"paste html here\", cls=\"w-100 h-80\", id=\"txt-html\", hx_post=\"/html2ft/convert\", hx_trigger=\"blur\", hx_target=\"#result\", hx_indicator=\"#processing-indicator\"),\n",
        "                Strong(id=\"processing-indicator\", cls=\"htmx-indicator\")(\"Processing...\")\n",
        "            ),\n",
        "            Div(cls=\"flex-grow-2 h-300px text-align-left\", style=\"padding-left: 5rem;\")(\n",
        "                Code(id=\"result\", cls=\"white-space-pre-wrap text-align-left\")\n",
        "            )\n",
        "        ),\n",
        "        Script(code=on_paste),\n",
        "        path=\"/html2ft\"\n",
        "    )"
      ]
    },
    {
      "cell_type": "markdown",
      "id": "d845ca47-dc6b-4dff-9e46-639e02891b39",
      "metadata": {
        "id": "d845ca47-dc6b-4dff-9e46-639e02891b39"
      },
      "source": [
        "# You can also post some data over"
      ]
    },
    {
      "cell_type": "code",
      "execution_count": 6,
      "id": "3e0cafc9-1eff-4489-9dad-b809d559437e",
      "metadata": {
        "colab": {
          "base_uri": "https://localhost:8080/",
          "height": 538
        },
        "id": "3e0cafc9-1eff-4489-9dad-b809d559437e",
        "outputId": "ce38b9b0-c00e-41dd-de34-cb164c3a1dd8"
      },
      "outputs": [
        {
          "data": {
            "text/html": [
              "<iframe src=http://localhost:8000/login style=\"width: 100%; height: auto; border: none;\" onload=\"{\n",
              "        let frame = this;\n",
              "        window.addEventListener('message', function(e) {\n",
              "            if (e.data.height) frame.style.height = (e.data.height+1) + 'px';\n",
              "        }, false);\n",
              "    }\" allow=\"accelerometer; autoplay; camera; clipboard-read; clipboard-write; display-capture; encrypted-media; fullscreen; gamepad; geolocation; gyroscope; hid; identity-credentials-get; idle-detection; magnetometer; microphone; midi; payment; picture-in-picture; publickey-credentials-get; screen-wake-lock; serial; usb; web-share; xr-spatial-tracking\"></iframe> "
            ],
            "text/plain": [
              "<IPython.core.display.HTML object>"
            ]
          },
          "metadata": {},
          "output_type": "display_data"
        }
      ],
      "source": [
        "from password_strength import PasswordStats\n",
        "\n",
        "with Playground(path=\"/login\") as playground:\n",
        "  @dataclass\n",
        "  class LoginData: email: str; pw:str\n",
        "\n",
        "  @playground.rt(\"/login\")\n",
        "  def post(ld: LoginData): return Span(f\"You are logged in!\")\n",
        "\n",
        "  @playground.rt(\"/login/validation\")\n",
        "  def post(ld: LoginData):\n",
        "    strength = int(PasswordStats(ld.pw).strength() * 10) if ld.pw else 0\n",
        "    if strength > 7:\n",
        "        c = \"green\"\n",
        "    elif strength > 5:\n",
        "        c = \"orange\"\n",
        "    else: c = \"red\"\n",
        "\n",
        "    return Div(id=\"email-validator\", hx_swap_oob=\"true\")(\"✅\" if \"@\" in ld.email else \"🔴\"), strength > 0 and Div(id=\"password-validator\", hx_swap_oob=\"true\")(\n",
        "        Div(cls=\"flex flex-row\")(\n",
        "            *[Div(cls=f\"text-{c}\")(\"+\") if i + 1 <= strength else Div(cls=\"tex-gray\")(\"_\") for i in range(9)]\n",
        "        )\n",
        "    )\n",
        "\n",
        "  @playground.rt(\"/login\")\n",
        "  def get():\n",
        "    return PlaygroundUI(\n",
        "        Form(hx_post=\"/login\")(\n",
        "            Div(cls=\"flex flex-row\")(\n",
        "                Textbox(name=\"email\", placeholder=\"Email\", hx_post=\"/login/validation\", hx_trigger=\"keyup\"),\n",
        "                Div(id=\"email-validator\")\n",
        "            ),\n",
        "            Div(cls=\"flex flex-row\")(\n",
        "                Password(name=\"pw\", placeholder=\"Password\", hx_post=\"/login/validation\", hx_trigger=\"keyup\"),\n",
        "                Div(id=\"password-validator\")\n",
        "            ),\n",
        "            ActionButton(\"Go!\"),\n",
        "        ),\n",
        "        path=\"/login\"\n",
        "    )\n"
      ]
    },
    {
      "cell_type": "markdown",
      "id": "a4bec2d3",
      "metadata": {},
      "source": [
        "# Adding things to a list"
      ]
    },
    {
      "cell_type": "code",
      "execution_count": 71,
      "id": "f2ef6a59",
      "metadata": {},
      "outputs": [
        {
          "data": {
            "text/html": [
              "<iframe src=http://localhost:8000/todos style=\"width: 100%; height: auto; border: none;\" onload=\"{\n",
              "        let frame = this;\n",
              "        window.addEventListener('message', function(e) {\n",
              "            if (e.data.height) frame.style.height = (e.data.height+1) + 'px';\n",
              "        }, false);\n",
              "    }\" allow=\"accelerometer; autoplay; camera; clipboard-read; clipboard-write; display-capture; encrypted-media; fullscreen; gamepad; geolocation; gyroscope; hid; identity-credentials-get; idle-detection; magnetometer; microphone; midi; payment; picture-in-picture; publickey-credentials-get; screen-wake-lock; serial; usb; web-share; xr-spatial-tracking\"></iframe> "
            ],
            "text/plain": [
              "<IPython.core.display.HTML object>"
            ]
          },
          "metadata": {},
          "output_type": "display_data"
        }
      ],
      "source": [
        "\n",
        "with Playground(path=\"/todos\") as playground:\n",
        "  db = database(\":memory:\")\n",
        "  \n",
        "  class Todo: id: int; title: str; done: bool = False\n",
        "  todos = db.create(Todo, pk=\"id\")\n",
        "  todos.insert(Todo(title=\"call mom\", done=True))\n",
        "  todos.insert(Todo(title=\"learn FastHTML\"))\n",
        "\n",
        "  @patch\n",
        "  def __ft__(self: Todo):\n",
        "    s = \"text-decoration: line-through;\" if self.done else \"\"\n",
        "    return Div(style=s)(\n",
        "      ActionCheckbox(checked=self.done, style=\"width: 20px; height: 20px;\", hx_),\n",
        "      self.title\n",
        "    )\n",
        "\n",
        "  @playground.rt(\"/todos/add\")\n",
        "  def post(title: str):\n",
        "    return todos.insert(Todo(title=title))\n",
        "\n",
        "  @playground.rt(\"/todos\")\n",
        "  def get():\n",
        "    todos_ui = H1(style=\"text-align:left; font-size: 75px;\")(\"Things to do\"), Hr(), Ul(id=\"todos\", style=\"text-align: left; list-style: none; padding-left:0; font-size: 50px;\")(\n",
        "        *[Li(todo) for todo in todos()]\n",
        "    ), Form(\n",
        "      hx_post=\"/todos/add\",\n",
        "      hx_target=\"#todos\",\n",
        "      hx_swap=\"beforeend\"\n",
        "    )(\n",
        "        Textbox(name=\"title\", placeholder=\"New todo\", style=\"font-size: 50px;\"),\n",
        "        ActionButton(\"Add\", style=\"font-size: 50px;\")\n",
        "    ), HtmxOn(\"afterRequest\", \"document.querySelector('form').reset()\")\n",
        "    return PlaygroundUI(todos_ui, path=\"/todos\")\n"
      ]
    },
    {
      "cell_type": "code",
      "execution_count": null,
      "id": "60096092",
      "metadata": {},
      "outputs": [],
      "source": []
    }
  ],
  "metadata": {
    "colab": {
      "provenance": []
    },
    "kernelspec": {
      "display_name": ".env",
      "language": "python",
      "name": "python3"
    },
    "language_info": {
      "codemirror_mode": {
        "name": "ipython",
        "version": 3
      },
      "file_extension": ".py",
      "mimetype": "text/x-python",
      "name": "python",
      "nbconvert_exporter": "python",
      "pygments_lexer": "ipython3",
      "version": "3.10.9"
    }
  },
  "nbformat": 4,
  "nbformat_minor": 5
}
